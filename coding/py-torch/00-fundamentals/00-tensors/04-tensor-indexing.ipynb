{
 "cells": [
  {
   "cell_type": "code",
   "execution_count": 23,
   "id": "initial_id",
   "metadata": {
    "ExecuteTime": {
     "end_time": "2025-04-27T21:50:21.477794Z",
     "start_time": "2025-04-27T21:50:21.472413Z"
    },
    "collapsed": true
   },
   "outputs": [],
   "source": [
    "import torch"
   ]
  },
  {
   "cell_type": "markdown",
   "id": "41bd029c20a3520b",
   "metadata": {},
   "source": [
    "# Indexing\n",
    "\n",
    "- *Starting with matrices `A` and `B`, we build a tensor with shape $2 \\times 3 \\times 3$. This means our tensor stacks both matrices along a new dimension, giving us a 3D structure that's easy to index and manipulate.*"
   ]
  },
  {
   "cell_type": "code",
   "execution_count": 24,
   "id": "48f02a656537674c",
   "metadata": {
    "ExecuteTime": {
     "end_time": "2025-04-27T21:50:24.699370Z",
     "start_time": "2025-04-27T21:50:24.693037Z"
    }
   },
   "outputs": [
    {
     "name": "stdout",
     "output_type": "stream",
     "text": [
      "Matriz A:\n",
      "tensor([[1, 2, 3],\n",
      "        [4, 5, 6],\n",
      "        [7, 8, 9]])\n",
      "Matriz B:\n",
      "tensor([[10, 11, 12],\n",
      "        [13, 14, 15],\n",
      "        [16, 17, 18]])\n"
     ]
    }
   ],
   "source": [
    "A = torch.arange(1, 10).reshape((3, 3))\n",
    "print(f'Matriz A:\\n{A}')\n",
    "\n",
    "B = torch.arange(10, 19).reshape((3, 3))\n",
    "print(f'Matriz B:\\n{B}')"
   ]
  },
  {
   "cell_type": "code",
   "execution_count": 25,
   "id": "b9d3f832026cdbff",
   "metadata": {
    "ExecuteTime": {
     "end_time": "2025-04-27T21:50:25.700273Z",
     "start_time": "2025-04-27T21:50:25.696462Z"
    }
   },
   "outputs": [
    {
     "name": "stdout",
     "output_type": "stream",
     "text": [
      "Tensor X:\n",
      "tensor([[[ 1,  2,  3],\n",
      "         [ 4,  5,  6],\n",
      "         [ 7,  8,  9]],\n",
      "\n",
      "        [[10, 11, 12],\n",
      "         [13, 14, 15],\n",
      "         [16, 17, 18]]])\n",
      "Shape: X = torch.Size([2, 3, 3])\n"
     ]
    }
   ],
   "source": [
    "X = torch.stack((A, B))\n",
    "print(f'Tensor X:\\n{X}')\n",
    "print(f'Shape: X = {X.shape}')"
   ]
  },
  {
   "cell_type": "markdown",
   "id": "3325f82a11ece76e",
   "metadata": {},
   "source": [
    "- *You can access elements in each dimension of a tensor using square brackets `[]`. For example, with our tensor `X`:*\n",
    "    - *`X[0]` grabs the first item along the first dimension—so in our case, that's matrix `A`. To get matrix `B`, use `X[1]`.*\n",
    "    - *`X[0, 0]` dives deeper: it fetches the first row of matrix `A` (the first element of the first and second dimensions).*\n",
    "    - *`X[0, 0, 0]` goes all the way—this returns the very first element in the first row of matrix `A` (the first element in all three dimensions).*"
   ]
  },
  {
   "cell_type": "code",
   "execution_count": 26,
   "id": "70128b49daf9c70a",
   "metadata": {
    "ExecuteTime": {
     "end_time": "2025-04-27T21:50:51.307771Z",
     "start_time": "2025-04-27T21:50:51.302633Z"
    }
   },
   "outputs": [
    {
     "name": "stdout",
     "output_type": "stream",
     "text": [
      "X = tensor([[1, 2, 3],\n",
      "        [4, 5, 6],\n",
      "        [7, 8, 9]])\n",
      "\n",
      "Shape: X = torch.Size([3, 3])\n"
     ]
    }
   ],
   "source": [
    "print(f'X = {X[0]}\\n')\n",
    "print(f'Shape: X = {X[0].shape}')"
   ]
  },
  {
   "cell_type": "code",
   "execution_count": 27,
   "id": "65e5299f987e5c73",
   "metadata": {
    "ExecuteTime": {
     "end_time": "2025-04-27T21:50:53.292508Z",
     "start_time": "2025-04-27T21:50:53.289302Z"
    }
   },
   "outputs": [
    {
     "name": "stdout",
     "output_type": "stream",
     "text": [
      "Matrix: A = tensor([[1, 2, 3],\n",
      "        [4, 5, 6],\n",
      "        [7, 8, 9]])\n",
      "\n",
      "Shape: A = torch.Size([3, 3])\n"
     ]
    }
   ],
   "source": [
    "print(f'Matrix: A = {X[0]}\\n')\n",
    "print(f'Shape: A = {X[0].shape}')"
   ]
  },
  {
   "cell_type": "code",
   "execution_count": 28,
   "id": "afb5f97b73eab514",
   "metadata": {
    "ExecuteTime": {
     "end_time": "2025-04-27T21:50:54.951479Z",
     "start_time": "2025-04-27T21:50:54.947902Z"
    }
   },
   "outputs": [
    {
     "name": "stdout",
     "output_type": "stream",
     "text": [
      "First row in matrix A = tensor([1, 2, 3])\n"
     ]
    }
   ],
   "source": [
    "print(f'First row in matrix A = {X[0, 0]}')"
   ]
  },
  {
   "cell_type": "code",
   "execution_count": 29,
   "id": "3eb31b9959f1d8f6",
   "metadata": {
    "ExecuteTime": {
     "end_time": "2025-04-27T21:50:57.057765Z",
     "start_time": "2025-04-27T21:50:57.054810Z"
    }
   },
   "outputs": [
    {
     "name": "stdout",
     "output_type": "stream",
     "text": [
      "First element of matrix A = 1\n"
     ]
    }
   ],
   "source": [
    "print(f'First element of matrix A = {X[0, 0, 0]}')"
   ]
  },
  {
   "cell_type": "markdown",
   "id": "334b9eb099e81cd3",
   "metadata": {},
   "source": [
    "- *Trying to access an element that doesn't exist in our tensor will throw an error. For instance, if you try `X[2]`, you'll get an error—there's no third matrix stacked in the first dimension, so PyTorch lets you know you're out of bounds.*"
   ]
  },
  {
   "cell_type": "code",
   "execution_count": 30,
   "id": "854165fdda03997d",
   "metadata": {
    "ExecuteTime": {
     "end_time": "2025-04-27T21:51:08.650336Z",
     "start_time": "2025-04-27T21:51:08.646804Z"
    }
   },
   "outputs": [
    {
     "name": "stdout",
     "output_type": "stream",
     "text": [
      "Error: index 2 is out of bounds for dimension 0 with size 2\n"
     ]
    }
   ],
   "source": [
    "try:\n",
    "    print(f'X[2] = {X[2]}')\n",
    "except IndexError as e:\n",
    "    print(f'Error: {e}')"
   ]
  },
  {
   "cell_type": "markdown",
   "id": "4983e1ff15fd36b",
   "metadata": {},
   "source": [
    "- *Slicing lets us grab just the parts of a tensor we want. For example, `X[1, 1:, 1:]` pulls out the last two rows and last two columns from matrix `B`. It's a handy way to focus on specific sections without copying or reshaping the whole tensor.*"
   ]
  },
  {
   "cell_type": "code",
   "execution_count": 32,
   "id": "7982cfe97d17ab46",
   "metadata": {
    "ExecuteTime": {
     "end_time": "2025-04-27T21:53:27.509488Z",
     "start_time": "2025-04-27T21:53:27.504660Z"
    }
   },
   "outputs": [
    {
     "data": {
      "text/plain": [
       "tensor([[14, 15],\n",
       "        [17, 18]])"
      ]
     },
     "execution_count": 32,
     "metadata": {},
     "output_type": "execute_result"
    }
   ],
   "source": [
    "X[1, 1:, 1:]"
   ]
  }
 ],
 "metadata": {
  "kernelspec": {
   "display_name": "Python 3",
   "language": "python",
   "name": "python3"
  },
  "language_info": {
   "codemirror_mode": {
    "name": "ipython",
    "version": 2
   },
   "file_extension": ".py",
   "mimetype": "text/x-python",
   "name": "python",
   "nbconvert_exporter": "python",
   "pygments_lexer": "ipython2",
   "version": "2.7.6"
  }
 },
 "nbformat": 4,
 "nbformat_minor": 5
}
