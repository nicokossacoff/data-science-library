{
 "cells": [
  {
   "cell_type": "code",
   "execution_count": 1,
   "id": "7651bf4dc2dcc2ba",
   "metadata": {
    "ExecuteTime": {
     "end_time": "2025-04-27T22:57:58.487454Z",
     "start_time": "2025-04-27T22:57:57.864413Z"
    }
   },
   "outputs": [],
   "source": [
    "import torch"
   ]
  },
  {
   "cell_type": "markdown",
   "id": "1305426e7e34558",
   "metadata": {},
   "source": [
    "# Tensor operations\n",
    "\n",
    "*The most common operations are:*\n",
    "1. *Addition.*\n",
    "2. *Subtraction.*\n",
    "3. *Multiplication.*\n",
    "4. *Division.*\n",
    "5. *Matrix multiplication.*"
   ]
  },
  {
   "cell_type": "code",
   "execution_count": 2,
   "id": "a0dd823983899f5a",
   "metadata": {
    "ExecuteTime": {
     "end_time": "2025-04-27T22:57:58.600224Z",
     "start_time": "2025-04-27T22:57:58.539040Z"
    }
   },
   "outputs": [
    {
     "data": {
      "text/plain": [
       "tensor([1, 2, 3], device='mps:0')"
      ]
     },
     "execution_count": 2,
     "metadata": {},
     "output_type": "execute_result"
    }
   ],
   "source": [
    "X = torch.tensor([1, 2, 3], device='mps')\n",
    "X"
   ]
  },
  {
   "cell_type": "markdown",
   "id": "e949cbff0a7e7591",
   "metadata": {},
   "source": [
    "- *We can see that the first four operations (i.e., addition, subtraction, multiplication, and division) are performed element-wise, just like in NumPy. For example, if the operation is $X + 100$, we add 100 to the first element of tensor $X$, 100 is added to the second element of tensor $X$, and so on for all elements.*"
   ]
  },
  {
   "cell_type": "code",
   "execution_count": 3,
   "id": "76291c8b20a23d74",
   "metadata": {
    "ExecuteTime": {
     "end_time": "2025-04-27T22:57:58.727494Z",
     "start_time": "2025-04-27T22:57:58.611363Z"
    }
   },
   "outputs": [
    {
     "name": "stdout",
     "output_type": "stream",
     "text": [
      "X: tensor([1, 2, 3], device='mps:0')\n",
      "y: tensor([101, 102, 103], device='mps:0')\n"
     ]
    }
   ],
   "source": [
    "# Suma\n",
    "print(f'X: {X}')\n",
    "y = X + 100\n",
    "print(f'y: {y}')"
   ]
  },
  {
   "cell_type": "code",
   "execution_count": 4,
   "id": "52ce5cf0ffb885a0",
   "metadata": {
    "ExecuteTime": {
     "end_time": "2025-04-27T22:58:00.682334Z",
     "start_time": "2025-04-27T22:57:58.738382Z"
    }
   },
   "outputs": [
    {
     "name": "stdout",
     "output_type": "stream",
     "text": [
      "X:\n",
      " tensor([[1., 1., 1.],\n",
      "        [1., 1., 1.],\n",
      "        [1., 1., 1.]], device='mps:0')\n",
      "y:\n",
      " tensor([[2., 4., 8.],\n",
      "        [8., 0., 1.],\n",
      "        [3., 7., 2.]], device='mps:0')\n",
      "Suma:\n",
      " tensor([[3., 5., 9.],\n",
      "        [9., 1., 2.],\n",
      "        [4., 8., 3.]], device='mps:0')\n"
     ]
    }
   ],
   "source": [
    "X = torch.ones(size=(3, 3), device='mps')\n",
    "print(f'X:\\n {X}')\n",
    "y = torch.randint_like(X, low=0, high=10)\n",
    "print(f'y:\\n {y}')\n",
    "\n",
    "z = X + y\n",
    "print(f'Suma:\\n {z}')"
   ]
  },
  {
   "cell_type": "code",
   "execution_count": 5,
   "id": "81c610938263b87f",
   "metadata": {
    "ExecuteTime": {
     "end_time": "2025-04-27T22:58:00.741381Z",
     "start_time": "2025-04-27T22:58:00.705983Z"
    }
   },
   "outputs": [
    {
     "name": "stdout",
     "output_type": "stream",
     "text": [
      "X: tensor([[1., 1., 1.],\n",
      "        [1., 1., 1.],\n",
      "        [1., 1., 1.]], device='mps:0')\n",
      "y: tensor([[-99., -99., -99.],\n",
      "        [-99., -99., -99.],\n",
      "        [-99., -99., -99.]], device='mps:0')\n"
     ]
    }
   ],
   "source": [
    "# Resta\n",
    "print(f'X: {X}')\n",
    "y = X - 100\n",
    "print(f'y: {y}')"
   ]
  },
  {
   "cell_type": "code",
   "execution_count": 6,
   "id": "c512eaa1dafe8fbb",
   "metadata": {
    "ExecuteTime": {
     "end_time": "2025-04-27T22:58:00.801219Z",
     "start_time": "2025-04-27T22:58:00.768209Z"
    }
   },
   "outputs": [
    {
     "name": "stdout",
     "output_type": "stream",
     "text": [
      "X:\n",
      " tensor([[1., 1., 1.],\n",
      "        [1., 1., 1.],\n",
      "        [1., 1., 1.]], device='mps:0')\n",
      "Multiply X by 25:\n",
      " tensor([[25., 25., 25.],\n",
      "        [25., 25., 25.],\n",
      "        [25., 25., 25.]], device='mps:0')\n"
     ]
    }
   ],
   "source": [
    "# Multiplicación\n",
    "X = torch.ones(size=(3, 3), device='mps')\n",
    "print(f'X:\\n {X}')\n",
    "\n",
    "y = X * 25\n",
    "print(f'Multiply X by 25:\\n {y}')"
   ]
  },
  {
   "cell_type": "code",
   "execution_count": 7,
   "id": "8ea111b358a6e66a",
   "metadata": {
    "ExecuteTime": {
     "end_time": "2025-04-27T22:58:00.880806Z",
     "start_time": "2025-04-27T22:58:00.826492Z"
    }
   },
   "outputs": [
    {
     "name": "stdout",
     "output_type": "stream",
     "text": [
      "X:\n",
      " tensor([[1., 1., 1.],\n",
      "        [1., 1., 1.],\n",
      "        [1., 1., 1.]], device='mps:0')\n",
      "Divide X by 25:\n",
      " tensor([[0.0400, 0.0400, 0.0400],\n",
      "        [0.0400, 0.0400, 0.0400],\n",
      "        [0.0400, 0.0400, 0.0400]], device='mps:0')\n"
     ]
    }
   ],
   "source": [
    "# División\n",
    "X = torch.ones(size=(3, 3), device='mps')\n",
    "print(f'X:\\n {X}')\n",
    "\n",
    "y = X / 25\n",
    "print(f'Divide X by 25:\\n {y}')"
   ]
  },
  {
   "cell_type": "markdown",
   "id": "c7913b044b9e643a",
   "metadata": {},
   "source": [
    "## Matrix multiplication\n",
    "\n",
    "- *In PyTorch we have two ways to multiply matrices:*\n",
    "    1. ***Element-wise multiplication (element-wise product).** Mathematically, this is not a valid operation between matrices, but PyTorch allows us to perform this multiplication where element $a_{i,j}$ of matrix $A$ is multiplied by element $b_{i,j}$ of matrix $B$.*\n",
    "        - *To perform element-wise multiplication, the matrices must have the same dimensions.*\n",
    "    2. ***Matrix multiplication (dot product).** This is the mathematically correct multiplication of matrices.*\n",
    "        - *The dimensions of the matrices must be compatible. That is, the number of columns in matrix $A$ must be equivalent to the number of rows in matrix $B$, which is why we say that matrix multiplication is not commutative (i.e., $A\\cdot B$ is not the same as $B\\cdot A$).*\n",
    "        - *If $A$ is a matrix of size $m \\times n$ and $B$ is a matrix of size $n \\times p$, then the matrix product $A \\cdot B$ is a matrix of size $m \\times p$.*"
   ]
  },
  {
   "cell_type": "markdown",
   "id": "16308ca029002f01",
   "metadata": {},
   "source": [
    "### Element-wise multiplication"
   ]
  },
  {
   "cell_type": "code",
   "execution_count": 8,
   "id": "a4cb7e2f94abe91f",
   "metadata": {
    "ExecuteTime": {
     "end_time": "2025-04-27T22:58:00.940207Z",
     "start_time": "2025-04-27T22:58:00.903918Z"
    }
   },
   "outputs": [
    {
     "name": "stdout",
     "output_type": "stream",
     "text": [
      "A:\n",
      " tensor([[4, 9, 8],\n",
      "        [8, 8, 6],\n",
      "        [2, 9, 5]], device='mps:0')\n",
      "B:\n",
      " tensor([[6, 7, 9],\n",
      "        [9, 1, 5],\n",
      "        [0, 0, 5]], device='mps:0')\n"
     ]
    }
   ],
   "source": [
    "A = torch.randint(low=0, high=10, size=(3, 3), device='mps')\n",
    "B = torch.randint(low=0, high=10, size=(3, 3), device='mps')\n",
    "print(f'A:\\n {A}')\n",
    "print(f'B:\\n {B}')"
   ]
  },
  {
   "cell_type": "code",
   "execution_count": 9,
   "id": "8bc92f754300b720",
   "metadata": {
    "ExecuteTime": {
     "end_time": "2025-04-27T22:58:01.011875Z",
     "start_time": "2025-04-27T22:58:00.968199Z"
    }
   },
   "outputs": [
    {
     "name": "stdout",
     "output_type": "stream",
     "text": [
      "A * B =\n",
      " tensor([[24, 63, 72],\n",
      "        [72,  8, 30],\n",
      "        [ 0,  0, 25]], device='mps:0')\n"
     ]
    }
   ],
   "source": [
    "C = A * B\n",
    "print(f'A * B =\\n {C}')"
   ]
  },
  {
   "cell_type": "markdown",
   "id": "ac67486b47c67add",
   "metadata": {},
   "source": [
    "### Matrix product\n",
    "\n",
    "- *For matrix multiplication we can use the `torch.matmul` and `torch.mm` functions, or the `@` operator.*"
   ]
  },
  {
   "cell_type": "code",
   "execution_count": 10,
   "id": "eb5975310d70e1d0",
   "metadata": {
    "ExecuteTime": {
     "end_time": "2025-04-27T22:58:01.045673Z",
     "start_time": "2025-04-27T22:58:01.040918Z"
    }
   },
   "outputs": [
    {
     "name": "stdout",
     "output_type": "stream",
     "text": [
      "A @ B =\n",
      " tensor([[75, 16, 93],\n",
      "        [12,  2, 16],\n",
      "        [ 9,  3,  9]])\n"
     ]
    }
   ],
   "source": [
    "# Change device type to CPU because MPS does not support matrix multiplication for integers\n",
    "A = torch.randint(low=0, high=10, size=(3, 2), device='cpu')\n",
    "B = torch.randint(low=0, high=10, size=(2, 3), device='cpu')\n",
    "\n",
    "# Matrix multiplication\n",
    "C = torch.mm(A, B)\n",
    "print(f'A @ B =\\n {C}')"
   ]
  },
  {
   "cell_type": "code",
   "execution_count": 11,
   "id": "b236a2d70bd60df2",
   "metadata": {
    "ExecuteTime": {
     "end_time": "2025-04-27T22:58:01.070335Z",
     "start_time": "2025-04-27T22:58:01.067779Z"
    }
   },
   "outputs": [
    {
     "name": "stdout",
     "output_type": "stream",
     "text": [
      "tensor([[75, 16, 93],\n",
      "        [12,  2, 16],\n",
      "        [ 9,  3,  9]])\n"
     ]
    }
   ],
   "source": [
    "# Matrix multiplication using the @ operator\n",
    "print(A @ B)"
   ]
  },
  {
   "cell_type": "markdown",
   "id": "80c7ba2710c6fe3e",
   "metadata": {},
   "source": [
    "- *We can easily transpose a matrix using the `torch.transpose` function or the `.T` method. This is often very useful when having to multiply matrices.*"
   ]
  },
  {
   "cell_type": "code",
   "execution_count": 12,
   "id": "d621761f9d8327e1",
   "metadata": {
    "ExecuteTime": {
     "end_time": "2025-04-27T22:58:01.097767Z",
     "start_time": "2025-04-27T22:58:01.093733Z"
    }
   },
   "outputs": [
    {
     "name": "stdout",
     "output_type": "stream",
     "text": [
      "Original shapes: tensor_A = torch.Size([3, 2]) and tensor_B = torch.Size([3, 2])\n",
      "Shapes after transpose: tensor_A = torch.Size([3, 2]) and tensor_B = torch.Size([2, 3])\n",
      "Output:\n",
      " tensor([[0.7623, 0.1659, 0.5608],\n",
      "        [0.9334, 0.1653, 0.3865],\n",
      "        [0.7834, 0.1416, 0.3469]])\n"
     ]
    }
   ],
   "source": [
    "# Create two random tensors with the same shape\n",
    "tensor_A = torch.rand(size=(3, 2))\n",
    "tensor_B = torch.rand(size=(3, 2))\n",
    "\n",
    "print(f'Original shapes: tensor_A = {tensor_A.shape} and tensor_B = {tensor_B.shape}')\n",
    "\n",
    "# Transpose the tensors\n",
    "tensor_C = torch.mm(tensor_A, tensor_B.T)\n",
    "print(f'Shapes after transpose: tensor_A = {tensor_A.shape} and tensor_B = {tensor_B.T.shape}')\n",
    "\n",
    "# Output:\n",
    "print(f'Output:\\n {tensor_C}')"
   ]
  },
  {
   "cell_type": "markdown",
   "id": "f1bcc5326e5c8b1f",
   "metadata": {},
   "source": [
    "# Tensor aggregation\n",
    "\n",
    "- *These operations allow us to obtain a single value from a tensor. For example, the sum of the tensor elements, the maximum value, the minimum value, the average value, among others.*"
   ]
  },
  {
   "cell_type": "code",
   "execution_count": 13,
   "id": "7174ac2cb0696ac2",
   "metadata": {
    "ExecuteTime": {
     "end_time": "2025-04-27T22:58:01.121045Z",
     "start_time": "2025-04-27T22:58:01.118798Z"
    }
   },
   "outputs": [
    {
     "data": {
      "text/plain": [
       "tensor([ 0, 10, 20, 30, 40, 50, 60, 70, 80, 90])"
      ]
     },
     "execution_count": 13,
     "metadata": {},
     "output_type": "execute_result"
    }
   ],
   "source": [
    "X = torch.arange(start=0, end=100, step=10)\n",
    "X"
   ]
  },
  {
   "cell_type": "code",
   "execution_count": 14,
   "id": "2ec4e2babf5085ba",
   "metadata": {
    "ExecuteTime": {
     "end_time": "2025-04-27T22:58:01.139562Z",
     "start_time": "2025-04-27T22:58:01.137316Z"
    }
   },
   "outputs": [
    {
     "data": {
      "text/plain": [
       "(tensor(0), tensor(0))"
      ]
     },
     "execution_count": 14,
     "metadata": {},
     "output_type": "execute_result"
    }
   ],
   "source": [
    "torch.min(X), X.min()"
   ]
  },
  {
   "cell_type": "code",
   "execution_count": 15,
   "id": "88b0e313e7252879",
   "metadata": {
    "ExecuteTime": {
     "end_time": "2025-04-27T22:58:01.157081Z",
     "start_time": "2025-04-27T22:58:01.154501Z"
    }
   },
   "outputs": [
    {
     "data": {
      "text/plain": [
       "(tensor(90), tensor(90))"
      ]
     },
     "execution_count": 15,
     "metadata": {},
     "output_type": "execute_result"
    }
   ],
   "source": [
    "torch.max(X), X.max()"
   ]
  },
  {
   "cell_type": "code",
   "execution_count": 16,
   "id": "3ed1529c0c37ddef",
   "metadata": {
    "ExecuteTime": {
     "end_time": "2025-04-27T22:58:01.175411Z",
     "start_time": "2025-04-27T22:58:01.172021Z"
    }
   },
   "outputs": [
    {
     "data": {
      "text/plain": [
       "(tensor(45.), tensor(45.))"
      ]
     },
     "execution_count": 16,
     "metadata": {},
     "output_type": "execute_result"
    }
   ],
   "source": [
    "# We must change the datatype to float32 because torch.mean() does not support int64\n",
    "torch.mean(X.type(torch.float32)), X.type(torch.float32).mean()"
   ]
  },
  {
   "cell_type": "code",
   "execution_count": 17,
   "id": "f79573ff6172bef1",
   "metadata": {
    "ExecuteTime": {
     "end_time": "2025-04-27T22:58:01.193911Z",
     "start_time": "2025-04-27T22:58:01.191392Z"
    }
   },
   "outputs": [
    {
     "data": {
      "text/plain": [
       "(tensor(450), tensor(450))"
      ]
     },
     "execution_count": 17,
     "metadata": {},
     "output_type": "execute_result"
    }
   ],
   "source": [
    "torch.sum(X), X.sum()"
   ]
  },
  {
   "cell_type": "markdown",
   "id": "2c430e5e02f3a8d9",
   "metadata": {},
   "source": [
    "- *We can also get the position (index) of the element with the maximum/minimum value of the tensor using the `argmax()` or `argmin()` methods, respectively.*"
   ]
  },
  {
   "cell_type": "code",
   "execution_count": 18,
   "id": "b7d3ad7373a12eee",
   "metadata": {
    "ExecuteTime": {
     "end_time": "2025-04-27T22:58:01.213103Z",
     "start_time": "2025-04-27T22:58:01.209235Z"
    }
   },
   "outputs": [
    {
     "name": "stdout",
     "output_type": "stream",
     "text": [
      "Posición del valor máximo: 9\n",
      "Posición del valor mínimo: 0\n"
     ]
    }
   ],
   "source": [
    "print(f'Posición del valor máximo: {X.argmax()}')\n",
    "print(f'Posición del valor mínimo: {X.argmin()}')"
   ]
  }
 ],
 "metadata": {
  "kernelspec": {
   "display_name": "Python 3 (ipykernel)",
   "language": "python",
   "name": "python3"
  }
 },
 "nbformat": 5,
 "nbformat_minor": 9
}
