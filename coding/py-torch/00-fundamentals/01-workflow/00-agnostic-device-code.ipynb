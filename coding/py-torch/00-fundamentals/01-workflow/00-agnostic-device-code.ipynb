{
 "cells": [
  {
   "cell_type": "code",
   "execution_count": 1,
   "id": "2567405c",
   "metadata": {},
   "outputs": [],
   "source": [
    "import torch\n",
    "import torch.nn as nn"
   ]
  },
  {
   "cell_type": "markdown",
   "id": "6f6d54e3",
   "metadata": {},
   "source": [
    "- *Es muy importante poder escribir nuestro código de PyTorch de manera tal que sea agnóstico al dispositivo que estamos utilizando para ejecutarlo (más información [acá](https://docs.pytorch.org/docs/stable/notes/cuda.html#device-agnostic-code)). Por ejemplo, queremos poder ejecutar nuestro código en una GPU si es que tenemos alguna disponible, o ejecutarlo en una MPS (las GPUs disponibles para las computadoras Apple Silicon) o, como último recurso, ejecutarlo en la CPU.*\n",
    "- *Es muy importante que cualquier modulo de PyTorch (i.e., tensores, modelos, etc.) que vayamos a utilizar en operaciones o entrenamientos se encuentren en el mismo dispositivo. PyTorch no nos permite realizar operaciones entre objectos que están guardados en diferentes dispositivos.*\n",
    "- *Comenzamos definiendo una variable o clase que defina, según la disponibilidad, el dispositivo a utilizar por defecto.*"
   ]
  },
  {
   "cell_type": "code",
   "execution_count": 2,
   "id": "49731d8f",
   "metadata": {},
   "outputs": [
    {
     "name": "stdout",
     "output_type": "stream",
     "text": [
      "Current available device: mps\n"
     ]
    }
   ],
   "source": [
    "class Config:\n",
    "    def __init__(self):\n",
    "        if torch.cuda.is_available():\n",
    "            self.device = torch.device(\"cuda\")\n",
    "        elif torch.backends.mps.is_available():\n",
    "            self.device = torch.device(\"mps\")\n",
    "        else:\n",
    "            self.device = torch.device(\"cpu\")\n",
    "    \n",
    "config = Config()\n",
    "print(f'Current available device: {config.device}')"
   ]
  },
  {
   "cell_type": "markdown",
   "id": "bbf610bb",
   "metadata": {},
   "source": [
    "- *PyTorch crea todos los objetos, por defecto, en la CPU. Podemos especificiar el dispositivo en donde queremos crear un tensor con el argumento `device`. También se puede utilizar el método `torch.Tensor.to()` para moverlo de un dispositivo a otro.*"
   ]
  },
  {
   "cell_type": "code",
   "execution_count": 5,
   "id": "6fdfde45",
   "metadata": {},
   "outputs": [
    {
     "name": "stdout",
     "output_type": "stream",
     "text": [
      "Device of tensor_A: cpu\n"
     ]
    }
   ],
   "source": [
    "# Create a tensor without specifying device\n",
    "# This will default to the CPU\n",
    "tensor_A = torch.randn((2, 3))\n",
    "print(f'Device of tensor_A: {tensor_A.device}')"
   ]
  },
  {
   "cell_type": "code",
   "execution_count": 4,
   "id": "3f8f4a55",
   "metadata": {},
   "outputs": [
    {
     "name": "stdout",
     "output_type": "stream",
     "text": [
      "Device of tensor_B: mps:0\n"
     ]
    }
   ],
   "source": [
    "# Create a tensor and define its device\n",
    "tensor_B = torch.randn((2, 3), device=config.device)\n",
    "print(f'Device of tensor_B: {tensor_B.device}')"
   ]
  },
  {
   "cell_type": "markdown",
   "id": "d95071b5",
   "metadata": {},
   "source": [
    "- *Notar que si no podemos realizar operaciones entre `tensor_A` y `tensor_B`, porque esto nos devuelve un error. Tenemos que mover alguno de los tensores de dispositivo para que esto funcione.*"
   ]
  },
  {
   "cell_type": "code",
   "execution_count": 6,
   "id": "ef534f5c",
   "metadata": {},
   "outputs": [
    {
     "name": "stdout",
     "output_type": "stream",
     "text": [
      "Error: Expected all tensors to be on the same device, but found at least two devices, mps:0 and cpu!\n"
     ]
    }
   ],
   "source": [
    "try:\n",
    "    print(tensor_A * tensor_B)\n",
    "except Exception as error:\n",
    "    print(f'Error: {error}')"
   ]
  },
  {
   "cell_type": "code",
   "execution_count": 10,
   "id": "19448177",
   "metadata": {},
   "outputs": [
    {
     "name": "stdout",
     "output_type": "stream",
     "text": [
      "tensor([[ 0.5859,  0.1104,  0.8016],\n",
      "        [ 0.0325,  1.1627, -0.6197]], device='mps:0')\n"
     ]
    }
   ],
   "source": [
    "# Move tensor_A to the same device as tensor_B\n",
    "tensor_A = tensor_A.to(config.device) # or tensor_A.to(tensor_B.device)\n",
    "\n",
    "print(tensor_A * tensor_B)"
   ]
  }
 ],
 "metadata": {
  "kernelspec": {
   "display_name": "pytorch",
   "language": "python",
   "name": "python3"
  },
  "language_info": {
   "codemirror_mode": {
    "name": "ipython",
    "version": 3
   },
   "file_extension": ".py",
   "mimetype": "text/x-python",
   "name": "python",
   "nbconvert_exporter": "python",
   "pygments_lexer": "ipython3",
   "version": "3.11.11"
  }
 },
 "nbformat": 4,
 "nbformat_minor": 5
}
