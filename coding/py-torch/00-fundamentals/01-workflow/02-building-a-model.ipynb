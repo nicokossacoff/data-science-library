{
 "cells": [
  {
   "cell_type": "code",
   "execution_count": 1,
   "id": "38860ca8",
   "metadata": {},
   "outputs": [],
   "source": [
    "import torch\n",
    "from torch import nn\n",
    "import matplotlib.pyplot as plt\n",
    "import numpy as np\n",
    "\n",
    "from config import Config"
   ]
  },
  {
   "cell_type": "code",
   "execution_count": 2,
   "id": "b67b67d7",
   "metadata": {},
   "outputs": [
    {
     "name": "stdout",
     "output_type": "stream",
     "text": [
      "Current device: mps\n"
     ]
    }
   ],
   "source": [
    "# Set up the device\n",
    "config = Config()\n",
    "print('Current device:', config.device)"
   ]
  },
  {
   "cell_type": "code",
   "execution_count": 3,
   "id": "3f32e23e",
   "metadata": {},
   "outputs": [],
   "source": [
    "# Load tensors. The map_location argument is used to load the tensors onto the specified device.\n",
    "train_data = torch.load('temp/data/train_data.pth', map_location=config.device)\n",
    "test_data = torch.load('temp/data/test_data.pth', map_location=config.device)"
   ]
  },
  {
   "cell_type": "markdown",
   "id": "b2295921",
   "metadata": {},
   "source": [
    "### Construir un modelo"
   ]
  },
  {
   "cell_type": "markdown",
   "id": "5feb1b56",
   "metadata": {},
   "source": [
    "- *Todos nuestros modelos en PyTorch van a heredar sus funcionalidades de la clase `nn.Module`. Esta es la clase base que nos aporta todas las funcionalidades necesarias para construir y entrenar una red neuronal.*\n",
    "- *Algunas de estas funcionalidades son:*\n",
    "    - *La capacidad de hacer un seguimiento de todos los parámetros del modelo que fueron definidos como atributos (esto quiere decir que se definieron usando la clase `nn.Parameter`<sup>1</sup>).*\n",
    "        - *Entonces, si definimos un atributo utilizando la clase `nn.Parameter`, PyTorch va a automáticamente registrar ese atributo y lo va a tener en cuenta al momento de computar los gradientes o al mover el modelo de un dipositivo a otro (e.g., de CPU a GPU).*\n",
    "        - *Podemos acceder a estos parámetros utilizando el método `parameters()` o `state_dict()` (recomendado).*\n",
    "    - *La posibilidad de crear arquitecturas complejas, al poder definir módulos dentro de otros.*\n",
    "\n",
    "<sup>1</sup> *`nn.Parameter` define una clase especial de tensores que se registran de manera automática cuando se definen dentro de una instancia de `nn.Module`. Muchas veces, cuando definamos las capas ocultas de nuestras redes neuronales, vamos a utilizar clases pre-definidas como `nn.Linear` o `nn.Conv2D`, las cuales definen estos atributos por nosotros, por lo que no vamos a tener que llamar a la función `nn.Parameter` explicitamente.*"
   ]
  },
  {
   "cell_type": "code",
   "execution_count": 4,
   "id": "e8ba0124",
   "metadata": {},
   "outputs": [],
   "source": [
    "class LinearRegressionModel(nn.Module):\n",
    "    def __init__(self, device: torch.device = torch.device('cpu')):\n",
    "        '''\n",
    "        Initializes a LinearRegressionModel.\n",
    "        \n",
    "        Args:\n",
    "            device (torch.device): Device to run the model on. Defaults to CPU.\n",
    "        '''\n",
    "        super().__init__()\n",
    "        self.weight = nn.Parameter(torch.randn(1, dtype=torch.float32))\n",
    "        self.bias = nn.Parameter(torch.randn(1, dtype=torch.float32))\n",
    "        \n",
    "        self.to(device=device)\n",
    "    \n",
    "    def forward(self, X: torch.Tensor) -> torch.Tensor:\n",
    "        return self.weight * X + self.bias"
   ]
  },
  {
   "cell_type": "markdown",
   "id": "be30ad0e",
   "metadata": {},
   "source": [
    "- *Algunas consideraciones:*\n",
    "    - *Al definir el constructor de la clase (i.e., al definir la función `__init__`), lo primero que agregamos es la línea `super().__init__()`, la cual inicializa a la clase padre. Si no la incluímos, la clase no va a poder heredar las funcionalidades de `nn.Module` que necesitamos para entrenar los modelos.*\n",
    "    - *Cuando se crea una clase a partir del módulo `nn.Module`, es necesario implementar el método `forward()`. Este método es muy importante porque define el grafo computacional de nuestro modelo (i.e., como fluye la información a lo largo de la red neuronal), el cual utilizamos para calcular los gradientes.*\n",
    "    - *Por defecto, PyTorch inicializa cualquier módulo en la CPU, independientemente del dispositivo que se encuentre disponible. Incluímos la línea `self.to(device=device)` al final del constructor de nuestra clase para automáticamente mover nuestro modelo (junto con todos sus parámetros/buffers) al dispositivo deseado.*"
   ]
  },
  {
   "cell_type": "code",
   "execution_count": 5,
   "id": "1287e8d1",
   "metadata": {},
   "outputs": [
    {
     "data": {
      "text/plain": [
       "OrderedDict([('weight', tensor([0.3367], device='mps:0')),\n",
       "             ('bias', tensor([0.1288], device='mps:0'))])"
      ]
     },
     "execution_count": 5,
     "metadata": {},
     "output_type": "execute_result"
    }
   ],
   "source": [
    "# Create a random seed\n",
    "torch.manual_seed(42)\n",
    "\n",
    "# Create a model instance\n",
    "model_0 = LinearRegressionModel(device=config.device)\n",
    "\n",
    "# Check the model's parameters\n",
    "# We can either use the `.parameters()` method or the `state_dict()` method\n",
    "model_0.state_dict()  # returns a dictionary of the model's parameters"
   ]
  }
 ],
 "metadata": {
  "kernelspec": {
   "display_name": "pytorch",
   "language": "python",
   "name": "python3"
  },
  "language_info": {
   "codemirror_mode": {
    "name": "ipython",
    "version": 3
   },
   "file_extension": ".py",
   "mimetype": "text/x-python",
   "name": "python",
   "nbconvert_exporter": "python",
   "pygments_lexer": "ipython3",
   "version": "3.11.11"
  }
 },
 "nbformat": 4,
 "nbformat_minor": 5
}
