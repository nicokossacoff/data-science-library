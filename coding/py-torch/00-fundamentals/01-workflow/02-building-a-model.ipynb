{
 "cells": [
  {
   "cell_type": "code",
   "execution_count": 1,
   "id": "38860ca8",
   "metadata": {},
   "outputs": [],
   "source": [
    "import torch\n",
    "from torch import nn\n",
    "import matplotlib.pyplot as plt\n",
    "import numpy as np"
   ]
  },
  {
   "cell_type": "code",
   "execution_count": 2,
   "id": "3f32e23e",
   "metadata": {},
   "outputs": [],
   "source": [
    "# Load tensors\n",
    "train_data = torch.load('temp/data/train_data.pt')\n",
    "test_data = torch.load('temp/data/test_data.pt')"
   ]
  },
  {
   "cell_type": "markdown",
   "id": "b2295921",
   "metadata": {},
   "source": [
    "### Construir un modelo"
   ]
  },
  {
   "cell_type": "markdown",
   "id": "5feb1b56",
   "metadata": {},
   "source": [
    "- *Todos nuestros modelos en PyTorch van a heredar sus funcionalidades de la clase `nn.Module`. Esta es la clase base que nos aporta todas las funcionalidades necesarias para construir y entrenar una red neuronal.*\n",
    "- *Algunas de las funcionalidades que heredamos son:*\n",
    "    - *La capacidad de hacer un seguimiento de todos los parámetros del modelo que fueron definidos como atributos (esto quiere decir que se definieron usando la clase `nn.Parameter`<sup>1</sup>).*\n",
    "        - *Entonces, si definimos un atributo utilizando la clase `nn.Parameter`, PyTorch va a automáticamente registrar ese atributo y lo va a tener en cuenta al momento de computar los gradientes o al mover el modelo de un dipositivo a otro (e.g., de CPU a GPU).*\n",
    "        - *Podemos acceder a estos parámetros utilizando el método `parameters()` o `state_dict()` (recomendado).*\n",
    "    - *La posibilidad de crear arquitecturas complejas, al poder definir módulos dentro de otros.*\n",
    "\n",
    "<sup>1</sup> *`nn.Parameter` define una clase especial de tensores que se registran de manera automática cuando se definen dentro de una instancia de `nn.Module`. Muchas veces, cuando definamos las capas ocultas de nuestras redes neuronales, vamos a utilizar clases pre-definidas como `nn.Linear` o `nn.Conv2D`, las cuales definen estos atributos por nosotros, lo que no vamos a tener que llamar a la función `nn.Parameter` explicitamente.*"
   ]
  },
  {
   "cell_type": "code",
   "execution_count": null,
   "id": "e8ba0124",
   "metadata": {},
   "outputs": [],
   "source": [
    "class LinearRegressionModel(nn.Module):\n",
    "    def __init__(self):\n",
    "        super().__init__()\n",
    "        self.weight = nn.Parameter(torch.randn(1, dtype=torch.float32))\n",
    "        self.bias = nn.Parameter(torch.randn(1, dtype=torch.float32))\n",
    "    \n",
    "    def forward(self, X: torch.Tensor) -> torch.Tensor:\n",
    "        return self.weight * X + self.bias"
   ]
  },
  {
   "cell_type": "markdown",
   "id": "be30ad0e",
   "metadata": {},
   "source": [
    "- *Notar que al principio de la función `__init__` de la clase (se conoce como constructor) agregamos la línea `super().__init__()`. Esta línea es muy importante ya que inicializa la clase padre. Si no la incluímos, nuestra clase no va a poder heredar las funcionalidades básicas de la clase `nn.Module`.*\n",
    "- *Siempre que estemos creando una clase a partir de la clase `nn.Module`, vamos a tener que implementar el método `forward()`. Este método es muy importante porque define el grafo computacional de nuestro modelo (i.e., como fluye la información a lo largo de la red neuronal) que utilizamos para calcular los gradientes.*"
   ]
  },
  {
   "cell_type": "code",
   "execution_count": null,
   "id": "1287e8d1",
   "metadata": {},
   "outputs": [
    {
     "data": {
      "text/plain": [
       "OrderedDict([('weight', tensor([0.3367])), ('bias', tensor([0.1288]))])"
      ]
     },
     "execution_count": 4,
     "metadata": {},
     "output_type": "execute_result"
    }
   ],
   "source": [
    "# Create a random seed\n",
    "torch.manual_seed(42)\n",
    "\n",
    "# Create a model instance\n",
    "model_0 = LinearRegressionModel()\n",
    "\n",
    "# Check the model's parameters\n",
    "# We can either use the `.parameters()` method or the `state_dict()` method\n",
    "model_0.state_dict()  # returns a dictionary of the model's parameters"
   ]
  }
 ],
 "metadata": {
  "kernelspec": {
   "display_name": "pytorch",
   "language": "python",
   "name": "python3"
  },
  "language_info": {
   "codemirror_mode": {
    "name": "ipython",
    "version": 3
   },
   "file_extension": ".py",
   "mimetype": "text/x-python",
   "name": "python",
   "nbconvert_exporter": "python",
   "pygments_lexer": "ipython3",
   "version": "3.11.11"
  }
 },
 "nbformat": 4,
 "nbformat_minor": 5
}
