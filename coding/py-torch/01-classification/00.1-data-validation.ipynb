{
 "cells": [
  {
   "cell_type": "code",
   "execution_count": 14,
   "id": "a939647d",
   "metadata": {},
   "outputs": [],
   "source": [
    "import logging\n",
    "logging.basicConfig(level=logging.INFO, format='%(asctime)s - %(levelname)s - %(message)s')\n",
    "\n",
    "import torch\n",
    "from pydantic import BaseModel, ValidationError\n",
    "from pydantic import field_validator\n",
    "from typing import Any"
   ]
  },
  {
   "cell_type": "markdown",
   "id": "34eb963d",
   "metadata": {},
   "source": [
    "- *Vamos a crear una modelo con Pydantic para validar el tipo de dato y tamaño de nuestros tensores.*\n",
    "- *Un modelo es una clase que nos permite definir la estructura de nuestros datos y las reglas que vamos a utilizar para validarlos. Se definen como una sub-clase de la clase `BaseModel`.*"
   ]
  },
  {
   "cell_type": "code",
   "execution_count": 15,
   "id": "51f4288b",
   "metadata": {},
   "outputs": [],
   "source": [
    "class TensorModel(BaseModel):\n",
    "    tensor: Any\n",
    "\n",
    "    @field_validator('tensor')\n",
    "    @classmethod\n",
    "    def validate_tensor(cls, value):\n",
    "        if not isinstance(value, torch.Tensor):\n",
    "            raise ValueError(\"Value must be a torch.Tensor object.\")\n",
    "        if value.dtype != torch.float32:\n",
    "            raise ValueError(\"Tensor must be of type torch.float32.\")\n",
    "        if value.dim() != 2:\n",
    "            raise ValueError(\"Tensor must be a 2D tensor.\")\n",
    "        if value.size(0) == 0 or value.size(1) == 0:\n",
    "            raise ValueError(\"Tensor must not be empty.\")\n",
    "        return value"
   ]
  },
  {
   "cell_type": "markdown",
   "id": "e64f923a",
   "metadata": {},
   "source": [
    "- *Pydantic no reconoce el tipo de dato `torch.Tensor`, por eso lo definimos con el tipo de dato `Any`. De esta forma le estamos diciendo a Pydantic que la variable `tensor` puede ser \"de cualquier tipo\". La consecuencia es que la validación la tenemos que definir nosotros utilizando `field_validator()`.*"
   ]
  },
  {
   "cell_type": "code",
   "execution_count": 16,
   "id": "a126d886",
   "metadata": {},
   "outputs": [
    {
     "name": "stderr",
     "output_type": "stream",
     "text": [
      "2025-06-19 23:58:33,917 - INFO - Tensor is valid\n"
     ]
    }
   ],
   "source": [
    "# This will raise a ValueError if the tensor does not meet the criteria\n",
    "try:\n",
    "    tensor = torch.ones((3, 4), dtype=torch.float32)\n",
    "    tensor = TensorModel(tensor=tensor)\n",
    "    logging.info(\"Tensor is valid\")\n",
    "except ValidationError as error:\n",
    "    logging.info(\"Validation error:\", error)"
   ]
  },
  {
   "cell_type": "code",
   "execution_count": 19,
   "id": "f90ae66f",
   "metadata": {},
   "outputs": [
    {
     "name": "stdout",
     "output_type": "stream",
     "text": [
      "Validation error: 1 validation error for TensorModel\n",
      "tensor\n",
      "  Value error, Tensor must be a 2D tensor. [type=value_error, input_value=tensor([[[1., 1., 1., 1.]...     [1., 1., 1., 1.]]]), input_type=Tensor]\n",
      "    For further information visit https://errors.pydantic.dev/2.10/v/value_error\n"
     ]
    }
   ],
   "source": [
    "# This will raise an error due to incorrect dimensions\n",
    "try:\n",
    "    tensor = torch.ones((2, 3, 4), dtype=torch.float32)\n",
    "    tensor = TensorModel(tensor=tensor)\n",
    "    logging.info(\"Tensor is valid\")\n",
    "except ValidationError as error:\n",
    "    print(\"Validation error:\", error)"
   ]
  }
 ],
 "metadata": {
  "kernelspec": {
   "display_name": "pytorch",
   "language": "python",
   "name": "python3"
  },
  "language_info": {
   "codemirror_mode": {
    "name": "ipython",
    "version": 3
   },
   "file_extension": ".py",
   "mimetype": "text/x-python",
   "name": "python",
   "nbconvert_exporter": "python",
   "pygments_lexer": "ipython3",
   "version": "3.11.11"
  }
 },
 "nbformat": 4,
 "nbformat_minor": 5
}
