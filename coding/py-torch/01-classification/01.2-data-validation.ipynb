{
 "cells": [
  {
   "cell_type": "code",
   "execution_count": 14,
   "id": "a939647d",
   "metadata": {},
   "outputs": [],
   "source": [
    "import logging\n",
    "logging.basicConfig(level=logging.INFO, format='%(asctime)s - %(levelname)s - %(message)s')\n",
    "\n",
    "import torch\n",
    "from pydantic import BaseModel, ValidationError\n",
    "from pydantic import field_validator\n",
    "from typing import Any"
   ]
  },
  {
   "cell_type": "markdown",
   "id": "34eb963d",
   "metadata": {},
   "source": [
    "- *We're building a Pydantic model to validate PyTorch tensors.*\n",
    "- *A model here is a class that defines the structure of our data and enforces validation rules. All models inherit from `BaseModel`.*\n",
    "- *We specify the fields to validate—i.e, the tensor (`tensor`) and its attributes like dimensions.*\n",
    "    - *Since Pydantic doesn't natively support `torch.Tensor`, we declare the `tensor` field as type `Any` to allow flexibility.*\n",
    "- *While Pydantic offers built-in validation, we use the `@field_validator` decorator to implement custom logic for our tensor checks.*"
   ]
  },
  {
   "cell_type": "code",
   "execution_count": 20,
   "id": "51f4288b",
   "metadata": {},
   "outputs": [],
   "source": [
    "class Tensor(BaseModel):\n",
    "    tensor: Any\n",
    "    tensor_dimensions: int = 2\n",
    "\n",
    "    @field_validator('tensor_dimensions')\n",
    "    @classmethod\n",
    "    def validate_tensor_dimensions(cls, value):\n",
    "        if not isinstance(value, int):\n",
    "            raise ValueError(\"Value must be an integer.\")\n",
    "        if value <= 0:\n",
    "            raise ValueError(\"Value must be a positive integer.\")\n",
    "        return value\n",
    "\n",
    "    @field_validator('tensor')\n",
    "    @classmethod\n",
    "    def validate_tensor(cls, value, info):\n",
    "        if not isinstance(value, torch.Tensor):\n",
    "            raise ValueError(\"Value must be a torch.Tensor object.\")\n",
    "        if value.dtype != torch.float32:\n",
    "            raise ValueError(\"Tensor must be of type torch.float32.\")\n",
    "        expected_dim = info.data.get('tensor_dimensions', 2)\n",
    "        if value.dim() != expected_dim:\n",
    "            raise ValueError(\"Tensor dimension must equal the expected dimension.\")\n",
    "        if value.size(0) == 0 or value.size(1) == 0:\n",
    "            raise ValueError(\"Tensor must not be empty.\")\n",
    "        return value"
   ]
  },
  {
   "cell_type": "code",
   "execution_count": 21,
   "id": "a126d886",
   "metadata": {},
   "outputs": [
    {
     "name": "stderr",
     "output_type": "stream",
     "text": [
      "2025-06-20 21:57:22,622 - INFO - Tensor is valid\n"
     ]
    }
   ],
   "source": [
    "# This will raise a ValueError if the tensor does not meet the criteria\n",
    "try:\n",
    "    tensor = torch.ones((3, 4), dtype=torch.float32)\n",
    "    tensor = Tensor(tensor=tensor, tensor_dimensions=2)\n",
    "    logging.info(\"Tensor is valid\")\n",
    "except ValidationError as error:\n",
    "    logging.info(\"Validation error:\", error)"
   ]
  },
  {
   "cell_type": "code",
   "execution_count": 22,
   "id": "f90ae66f",
   "metadata": {},
   "outputs": [
    {
     "name": "stdout",
     "output_type": "stream",
     "text": [
      "Validation error: 1 validation error for Tensor\n",
      "tensor\n",
      "  Value error, Tensor dimension must equal the expected dimension. [type=value_error, input_value=tensor([[[1., 1., 1., 1.]...     [1., 1., 1., 1.]]]), input_type=Tensor]\n",
      "    For further information visit https://errors.pydantic.dev/2.10/v/value_error\n"
     ]
    }
   ],
   "source": [
    "# This will raise an error due to incorrect dimensions\n",
    "try:\n",
    "    tensor = torch.ones((2, 3, 4), dtype=torch.float32)\n",
    "    tensor = Tensor(tensor=tensor, tensor_dimensions=2)\n",
    "    logging.info(\"Tensor is valid\")\n",
    "except ValidationError as error:\n",
    "    print(\"Validation error:\", error)"
   ]
  }
 ],
 "metadata": {
  "kernelspec": {
   "display_name": "pytorch",
   "language": "python",
   "name": "python3"
  },
  "language_info": {
   "codemirror_mode": {
    "name": "ipython",
    "version": 3
   },
   "file_extension": ".py",
   "mimetype": "text/x-python",
   "name": "python",
   "nbconvert_exporter": "python",
   "pygments_lexer": "ipython3",
   "version": "3.11.11"
  }
 },
 "nbformat": 4,
 "nbformat_minor": 5
}
