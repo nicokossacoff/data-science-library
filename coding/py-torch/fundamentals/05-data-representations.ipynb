{
 "cells": [
  {
   "cell_type": "code",
   "execution_count": 82,
   "id": "initial_id",
   "metadata": {
    "ExecuteTime": {
     "end_time": "2025-05-10T21:01:57.402203Z",
     "start_time": "2025-05-10T21:01:57.399308Z"
    },
    "collapsed": true
   },
   "outputs": [],
   "source": [
    "import imageio.v3 as imageio\n",
    "import torch\n",
    "import torch.nn as nn\n",
    "import os\n",
    "from glob import glob\n",
    "import numpy as np\n",
    "import pandas as pd"
   ]
  },
  {
   "cell_type": "code",
   "execution_count": 75,
   "id": "ff89f2d4",
   "metadata": {},
   "outputs": [],
   "source": [
    "device = torch.device('mps' if torch.backends.mps.is_available() else 'cpu')"
   ]
  },
  {
   "cell_type": "markdown",
   "id": "5904d14f8cd35d18",
   "metadata": {},
   "source": [
    "# Imágenes"
   ]
  },
  {
   "cell_type": "markdown",
   "id": "32dfa111",
   "metadata": {},
   "source": [
    "- *Hay muchas formas de codificar los colores de una imagen. La forma más común es utilizar el método RGB, donde cada pixel es una combinación de tres colores, donde cada color representa la intensidad de rojo, verde y azul, respectivamente.*\n",
    "<figure>\n",
    "    <img src='attachments/color-image-tensor.png' width=1000 style=\"display: block; margin: 0 auto;\" />\n",
    "    <figcaption style=\"text-align: center;\"> Stevens, Eli. (2020). A rainbow image, broken into red, blue, and green channels. In Stevens, Eli, <i>Deep Learning with PyTorch</i> (p. 72).\n",
    "    </figcaption>\n",
    "</figure>"
   ]
  },
  {
   "cell_type": "code",
   "execution_count": 8,
   "id": "61ac12298faf3436",
   "metadata": {
    "ExecuteTime": {
     "end_time": "2025-05-10T21:02:24.120579Z",
     "start_time": "2025-05-10T21:02:24.074776Z"
    }
   },
   "outputs": [
    {
     "data": {
      "text/plain": [
       "(720, 1280, 3)"
      ]
     },
     "execution_count": 8,
     "metadata": {},
     "output_type": "execute_result"
    }
   ],
   "source": [
    "image = imageio.imread('../data/fundamentals/image-dog/bobby.jpg')\n",
    "image.shape"
   ]
  },
  {
   "cell_type": "markdown",
   "id": "565b01698e6e4361",
   "metadata": {},
   "source": [
    "- *Notar que las primeras dos dimensiones corresponden a la altura y el ancho de la imagen, mientras que la tercera dimensión corresponde a los canales.*\n",
    "- *Los modulos de PyTorch que trabajan con imágenes requieren que la primera dimensión del tensor sean los canales. Corregimos las dimensiones del tensor con la función `torch.Tensor.permute()`, donde especificamos que la primera dimensión ahora sea la `dim=2` del tensor original.*"
   ]
  },
  {
   "cell_type": "code",
   "execution_count": null,
   "id": "ecb0d0a8111d8002",
   "metadata": {},
   "outputs": [
    {
     "name": "stdout",
     "output_type": "stream",
     "text": [
      "Original tensor:\n",
      " tensor([[[ 77,  45,  22],\n",
      "         [ 77,  45,  22],\n",
      "         [ 78,  46,  21],\n",
      "         ...,\n",
      "         [118,  78,  52],\n",
      "         [117,  77,  51],\n",
      "         [116,  76,  51]],\n",
      "\n",
      "        [[ 75,  43,  20],\n",
      "         [ 76,  44,  21],\n",
      "         [ 77,  45,  20],\n",
      "         ...,\n",
      "         [118,  78,  52],\n",
      "         [117,  77,  51],\n",
      "         [116,  76,  50]],\n",
      "\n",
      "        [[ 74,  39,  17],\n",
      "         [ 75,  41,  16],\n",
      "         [ 77,  43,  18],\n",
      "         ...,\n",
      "         [119,  80,  51],\n",
      "         [117,  77,  51],\n",
      "         [116,  76,  50]],\n",
      "\n",
      "        ...,\n",
      "\n",
      "        [[215, 165,  78],\n",
      "         [216, 166,  79],\n",
      "         [217, 167,  80],\n",
      "         ...,\n",
      "         [172, 122,  51],\n",
      "         [174, 124,  53],\n",
      "         [174, 124,  53]],\n",
      "\n",
      "        [[215, 165,  78],\n",
      "         [216, 166,  79],\n",
      "         [217, 167,  80],\n",
      "         ...,\n",
      "         [173, 123,  54],\n",
      "         [174, 124,  55],\n",
      "         [174, 124,  55]],\n",
      "\n",
      "        [[215, 165,  78],\n",
      "         [216, 166,  79],\n",
      "         [217, 167,  80],\n",
      "         ...,\n",
      "         [159, 108,  42],\n",
      "         [158, 107,  41],\n",
      "         [158, 107,  41]]], dtype=torch.uint8)\n",
      "\n",
      "Original shape: torch.Size([720, 1280, 3])\n"
     ]
    }
   ],
   "source": [
    "img = torch.from_numpy(image).to(device=device)\n",
    "print(f'Original tensor:\\n {img}')\n",
    "print(f'\\nOriginal shape: {img.shape}')"
   ]
  },
  {
   "cell_type": "code",
   "execution_count": 10,
   "id": "cd65c348",
   "metadata": {},
   "outputs": [
    {
     "name": "stdout",
     "output_type": "stream",
     "text": [
      "Permuted tensor:\n",
      " tensor([[[ 77,  77,  78,  ..., 118, 117, 116],\n",
      "         [ 75,  76,  77,  ..., 118, 117, 116],\n",
      "         [ 74,  75,  77,  ..., 119, 117, 116],\n",
      "         ...,\n",
      "         [215, 216, 217,  ..., 172, 174, 174],\n",
      "         [215, 216, 217,  ..., 173, 174, 174],\n",
      "         [215, 216, 217,  ..., 159, 158, 158]],\n",
      "\n",
      "        [[ 45,  45,  46,  ...,  78,  77,  76],\n",
      "         [ 43,  44,  45,  ...,  78,  77,  76],\n",
      "         [ 39,  41,  43,  ...,  80,  77,  76],\n",
      "         ...,\n",
      "         [165, 166, 167,  ..., 122, 124, 124],\n",
      "         [165, 166, 167,  ..., 123, 124, 124],\n",
      "         [165, 166, 167,  ..., 108, 107, 107]],\n",
      "\n",
      "        [[ 22,  22,  21,  ...,  52,  51,  51],\n",
      "         [ 20,  21,  20,  ...,  52,  51,  50],\n",
      "         [ 17,  16,  18,  ...,  51,  51,  50],\n",
      "         ...,\n",
      "         [ 78,  79,  80,  ...,  51,  53,  53],\n",
      "         [ 78,  79,  80,  ...,  54,  55,  55],\n",
      "         [ 78,  79,  80,  ...,  42,  41,  41]]], dtype=torch.uint8)\n",
      "\n",
      "Permuted shape: torch.Size([3, 720, 1280])\n"
     ]
    }
   ],
   "source": [
    "img_permuted = img.permute(2, 0, 1)\n",
    "print(f'Permuted tensor:\\n {img_permuted}')\n",
    "print(f'\\nPermuted shape: {img_permuted.shape}')"
   ]
  },
  {
   "cell_type": "markdown",
   "id": "d7f96492",
   "metadata": {},
   "source": [
    "- *El nuevo tensor `img_permuted` es una vista del objeto en memoria que se creó cuando definimos el tensor original (`img`).* \n",
    "- *Ambos tensores apuntan al mismo objecto en memoria, la única diferencia entre los tensores es el stride que utilizan para moverse a lo largo del objeto `torch.Storage`.*\n",
    "- *Para entrenar una red neuronal vamos a utilizar más de una imagen. Podemos representar un batch de imágenes como un tensor de cuatro dimensiones, donde la primera dimensión corresponde a la cantidad de imágenes que tenemos en el batch, la segunda dimensión corresponde a los canales, y las últimas dos corresponden a la altura y el ancho de cada imagen.*"
   ]
  },
  {
   "cell_type": "code",
   "execution_count": null,
   "id": "5f22b09b",
   "metadata": {},
   "outputs": [
    {
     "name": "stdout",
     "output_type": "stream",
     "text": [
      "Added cat1.png to batch\n",
      "Added cat2.png to batch\n",
      "Added cat3.png to batch\n"
     ]
    }
   ],
   "source": [
    "batch = torch.zeros(3, 3, 256, 256, dtype=torch.uint8)\n",
    "\n",
    "directory = '../data/fundamentals/image-cats/'\n",
    "images = [image for image in os.listdir(directory) if image.endswith('.png')]\n",
    "for (index, image) in enumerate(images):\n",
    "    # Loads image\n",
    "    img = imageio.imread(os.path.join(directory, image))\n",
    "\n",
    "    # Converts the array to a tensor and permutes the dimensions\n",
    "    img = torch.from_numpy(img).to(device=device)\n",
    "    img = img.permute(2, 0, 1)\n",
    "\n",
    "    # Adds the image to the batch\n",
    "    batch[index] = img\n",
    "\n",
    "    print(f'Added {image} to batch')"
   ]
  },
  {
   "cell_type": "code",
   "execution_count": 46,
   "id": "bc373c6e",
   "metadata": {},
   "outputs": [
    {
     "data": {
      "text/plain": [
       "tensor([[[[156, 152, 124,  ..., 150, 149, 158],\n",
       "          [174, 134, 165,  ..., 120, 136, 138],\n",
       "          [127, 156, 107,  ..., 131, 143, 164],\n",
       "          ...,\n",
       "          [116, 130, 129,  ..., 127, 118, 112],\n",
       "          [129, 130, 123,  ..., 115, 121, 114],\n",
       "          [129, 123, 118,  ..., 113, 121, 120]],\n",
       "\n",
       "         [[139, 135, 109,  ..., 135, 135, 147],\n",
       "          [160, 119, 149,  ..., 105, 122, 124],\n",
       "          [113, 140,  90,  ..., 118, 129, 152],\n",
       "          ...,\n",
       "          [ 99, 110, 111,  ..., 117, 108, 103],\n",
       "          [111, 111, 106,  ..., 106, 112, 105],\n",
       "          [111, 104, 102,  ..., 103, 110, 111]],\n",
       "\n",
       "         [[129, 123,  98,  ..., 131, 132, 145],\n",
       "          [155, 110, 137,  ..., 102, 119, 121],\n",
       "          [104, 132,  80,  ..., 112, 125, 146],\n",
       "          ...,\n",
       "          [ 93, 108, 105,  ..., 125, 115, 108],\n",
       "          [108, 108,  98,  ..., 110, 117, 110],\n",
       "          [107,  98,  95,  ..., 108, 115, 116]]],\n",
       "\n",
       "\n",
       "        [[[202, 193, 190,  ...,  13,  13,  12],\n",
       "          [199, 192, 189,  ...,  14,  14,  14],\n",
       "          [198, 193, 188,  ...,  12,  12,  12],\n",
       "          ...,\n",
       "          [ 93,  82,  76,  ...,  36,  36,  36],\n",
       "          [ 75,  68, 101,  ...,  36,  36,  37],\n",
       "          [ 85, 103,  90,  ...,  36,  37,  38]],\n",
       "\n",
       "         [[151, 139, 133,  ...,   9,   9,   8],\n",
       "          [151, 140, 134,  ...,  11,  11,  11],\n",
       "          [152, 143, 134,  ...,  11,  11,  11],\n",
       "          ...,\n",
       "          [ 57,  45,  39,  ...,  26,  26,  26],\n",
       "          [ 33,  26,  59,  ...,  26,  26,  27],\n",
       "          [ 40,  58,  45,  ...,  26,  27,  28]],\n",
       "\n",
       "         [[ 68,  53,  44,  ...,   6,   6,   5],\n",
       "          [ 67,  54,  44,  ...,   6,   6,   6],\n",
       "          [ 67,  56,  44,  ...,   6,   6,   6],\n",
       "          ...,\n",
       "          [ 31,  19,  12,  ...,  17,  17,  17],\n",
       "          [ 11,   2,  35,  ...,  17,  17,  18],\n",
       "          [ 19,  37,  22,  ...,  17,  18,  19]]],\n",
       "\n",
       "\n",
       "        [[[238, 238, 238,  ..., 214, 215, 215],\n",
       "          [238, 238, 238,  ..., 214, 215, 215],\n",
       "          [238, 238, 238,  ..., 214, 215, 215],\n",
       "          ...,\n",
       "          [214, 213, 212,  ..., 187, 190, 193],\n",
       "          [214, 213, 212,  ..., 186, 190, 192],\n",
       "          [214, 213, 212,  ..., 186, 190, 192]],\n",
       "\n",
       "         [[195, 195, 195,  ..., 173, 175, 175],\n",
       "          [195, 195, 195,  ..., 173, 175, 175],\n",
       "          [195, 195, 195,  ..., 173, 175, 175],\n",
       "          ...,\n",
       "          [128, 127, 126,  ..., 100, 103, 106],\n",
       "          [128, 127, 126,  ...,  99, 103, 105],\n",
       "          [128, 127, 126,  ...,  99, 103, 105]],\n",
       "\n",
       "         [[137, 137, 137,  ..., 125, 126, 126],\n",
       "          [137, 137, 137,  ..., 125, 126, 126],\n",
       "          [137, 137, 137,  ..., 125, 126, 126],\n",
       "          ...,\n",
       "          [ 79,  78,  77,  ...,  64,  68,  72],\n",
       "          [ 79,  78,  77,  ...,  64,  69,  71],\n",
       "          [ 79,  78,  77,  ...,  65,  69,  72]]]], dtype=torch.uint8)"
      ]
     },
     "execution_count": 46,
     "metadata": {},
     "output_type": "execute_result"
    }
   ],
   "source": [
    "batch"
   ]
  },
  {
   "cell_type": "markdown",
   "id": "599cd7d6",
   "metadata": {},
   "source": [
    "## Normalizando los datos"
   ]
  },
  {
   "cell_type": "markdown",
   "id": "0a8dd363",
   "metadata": {},
   "source": [
    "- *Las redes neuronales suelen performar mejor cuando los inputs se encuentran en el rango $[0, 1]$ (o $[-1, 1]$). Usualmente vamos a querer normalizar nuestros datos, restando la media y dividiendo por el desvío estándar, a lo largo de cada uno de los canales.*\n",
    "- ***IMPORTANTE.** En la práctica, cuando se cuenta con un dataset completo, se suele calcular primero la media y el desvío estándar para cada canal sobre todo el dataset, y luego normalizar por batches.*"
   ]
  },
  {
   "cell_type": "code",
   "execution_count": null,
   "id": "7ef05728",
   "metadata": {},
   "outputs": [],
   "source": [
    "# Convert the batch to float\n",
    "batch_norm = batch.clone().to(dtype=torch.float32)\n",
    "\n",
    "# Iterate over the channels to compute the mean and standard deviation, and then normalize\n",
    "n_channels = batch_norm.shape[1]\n",
    "for channel in np.arange(n_channels):\n",
    "    # Compute the mean and standard deviation for the current channel\n",
    "    mean = batch_norm[:, channel].mean()\n",
    "    std = batch_norm[:, channel].std()\n",
    "\n",
    "    # Normalize the current channel\n",
    "    batch_norm[:, channel] = (batch[:, channel] - mean) / std"
   ]
  },
  {
   "cell_type": "code",
   "execution_count": 51,
   "id": "0688742b",
   "metadata": {},
   "outputs": [
    {
     "data": {
      "text/plain": [
       "tensor([[[[ 0.1439,  0.0730, -0.4234,  ...,  0.0375,  0.0198,  0.1794],\n",
       "          [ 0.4631, -0.2461,  0.3035,  ..., -0.4944, -0.2107, -0.1752],\n",
       "          [-0.3703,  0.1439, -0.7249,  ..., -0.2993, -0.0866,  0.2858],\n",
       "          ...,\n",
       "          [-0.5653, -0.3171, -0.3348,  ..., -0.3703, -0.5298, -0.6362],\n",
       "          [-0.3348, -0.3171, -0.4412,  ..., -0.5830, -0.4766, -0.6007],\n",
       "          [-0.3348, -0.4412, -0.5298,  ..., -0.6185, -0.4766, -0.4944]],\n",
       "\n",
       "         [[ 0.4632,  0.3874, -0.1058,  ...,  0.3874,  0.3874,  0.6150],\n",
       "          [ 0.8615,  0.0839,  0.6529,  ..., -0.1816,  0.1408,  0.1787],\n",
       "          [-0.0299,  0.4822, -0.4661,  ...,  0.0649,  0.2736,  0.7098],\n",
       "          ...,\n",
       "          [-0.2954, -0.0868, -0.0678,  ...,  0.0460, -0.1247, -0.2196],\n",
       "          [-0.0678, -0.0678, -0.1627,  ..., -0.1627, -0.0489, -0.1816],\n",
       "          [-0.0678, -0.2006, -0.2385,  ..., -0.2196, -0.0868, -0.0678]],\n",
       "\n",
       "         [[ 0.7792,  0.6573,  0.1495,  ...,  0.8198,  0.8401,  1.1041],\n",
       "          [ 1.3072,  0.3933,  0.9417,  ...,  0.2308,  0.5761,  0.6167],\n",
       "          [ 0.2714,  0.8401, -0.2161,  ...,  0.4339,  0.6979,  1.1245],\n",
       "          ...,\n",
       "          [ 0.0480,  0.3526,  0.2917,  ...,  0.6979,  0.4948,  0.3526],\n",
       "          [ 0.3526,  0.3526,  0.1495,  ...,  0.3933,  0.5354,  0.3933],\n",
       "          [ 0.3323,  0.1495,  0.0886,  ...,  0.3526,  0.4948,  0.5151]]],\n",
       "\n",
       "\n",
       "        [[[ 0.9595,  0.7999,  0.7467,  ..., -2.3915, -2.3915, -2.4092],\n",
       "          [ 0.9063,  0.7822,  0.7290,  ..., -2.3738, -2.3738, -2.3738],\n",
       "          [ 0.8886,  0.7999,  0.7113,  ..., -2.4092, -2.4092, -2.4092],\n",
       "          ...,\n",
       "          [-0.9731, -1.1681, -1.2745,  ..., -1.9837, -1.9837, -1.9837],\n",
       "          [-1.2922, -1.4163, -0.8312,  ..., -1.9837, -1.9837, -1.9660],\n",
       "          [-1.1149, -0.7958, -1.0263,  ..., -1.9837, -1.9660, -1.9482]],\n",
       "\n",
       "         [[ 0.6908,  0.4632,  0.3494,  ..., -2.0024, -2.0024, -2.0214],\n",
       "          [ 0.6908,  0.4822,  0.3684,  ..., -1.9645, -1.9645, -1.9645],\n",
       "          [ 0.7098,  0.5391,  0.3684,  ..., -1.9645, -1.9645, -1.9645],\n",
       "          ...,\n",
       "          [-1.0920, -1.3196, -1.4334,  ..., -1.6800, -1.6800, -1.6800],\n",
       "          [-1.5472, -1.6800, -1.0541,  ..., -1.6800, -1.6800, -1.6610],\n",
       "          [-1.4144, -1.0730, -1.3196,  ..., -1.6800, -1.6610, -1.6420]],\n",
       "\n",
       "         [[-0.4598, -0.7644, -0.9472,  ..., -1.7190, -1.7190, -1.7394],\n",
       "          [-0.4801, -0.7441, -0.9472,  ..., -1.7190, -1.7190, -1.7190],\n",
       "          [-0.4801, -0.7035, -0.9472,  ..., -1.7190, -1.7190, -1.7190],\n",
       "          ...,\n",
       "          [-1.2113, -1.4550, -1.5972,  ..., -1.4956, -1.4956, -1.4956],\n",
       "          [-1.6175, -1.8003, -1.1300,  ..., -1.4956, -1.4956, -1.4753],\n",
       "          [-1.4550, -1.0894, -1.3941,  ..., -1.4956, -1.4753, -1.4550]]],\n",
       "\n",
       "\n",
       "        [[[ 1.5978,  1.5978,  1.5978,  ...,  1.1723,  1.1900,  1.1900],\n",
       "          [ 1.5978,  1.5978,  1.5978,  ...,  1.1723,  1.1900,  1.1900],\n",
       "          [ 1.5978,  1.5978,  1.5978,  ...,  1.1723,  1.1900,  1.1900],\n",
       "          ...,\n",
       "          [ 1.1723,  1.1545,  1.1368,  ...,  0.6936,  0.7467,  0.7999],\n",
       "          [ 1.1723,  1.1545,  1.1368,  ...,  0.6758,  0.7467,  0.7822],\n",
       "          [ 1.1723,  1.1545,  1.1368,  ...,  0.6758,  0.7467,  0.7822]],\n",
       "\n",
       "         [[ 1.5253,  1.5253,  1.5253,  ...,  1.1081,  1.1460,  1.1460],\n",
       "          [ 1.5253,  1.5253,  1.5253,  ...,  1.1081,  1.1460,  1.1460],\n",
       "          [ 1.5253,  1.5253,  1.5253,  ...,  1.1081,  1.1460,  1.1460],\n",
       "          ...,\n",
       "          [ 0.2546,  0.2356,  0.2167,  ..., -0.2765, -0.2196, -0.1627],\n",
       "          [ 0.2546,  0.2356,  0.2167,  ..., -0.2954, -0.2196, -0.1816],\n",
       "          [ 0.2546,  0.2356,  0.2167,  ..., -0.2954, -0.2196, -0.1816]],\n",
       "\n",
       "         [[ 0.9417,  0.9417,  0.9417,  ...,  0.6979,  0.7182,  0.7182],\n",
       "          [ 0.9417,  0.9417,  0.9417,  ...,  0.6979,  0.7182,  0.7182],\n",
       "          [ 0.9417,  0.9417,  0.9417,  ...,  0.6979,  0.7182,  0.7182],\n",
       "          ...,\n",
       "          [-0.2364, -0.2567, -0.2770,  ..., -0.5410, -0.4598, -0.3785],\n",
       "          [-0.2364, -0.2567, -0.2770,  ..., -0.5410, -0.4395, -0.3988],\n",
       "          [-0.2364, -0.2567, -0.2770,  ..., -0.5207, -0.4395, -0.3785]]]])"
      ]
     },
     "execution_count": 51,
     "metadata": {},
     "output_type": "execute_result"
    }
   ],
   "source": [
    "batch_norm"
   ]
  },
  {
   "cell_type": "markdown",
   "id": "b8801711",
   "metadata": {},
   "source": [
    "# Imágenes médicas"
   ]
  },
  {
   "cell_type": "markdown",
   "id": "d70a9fb0",
   "metadata": {},
   "source": [
    "- *Las imágenes médicas, como las de una tomografía computada, están compuestas por capas a lo largo de tres dimensiones: altura, ancho y profundidad.* \n",
    "- *La profundidad hace referencia a la distancia en el cuerpo del paciente. Por ejemplo, si se realiza una tomografía del torso de un paciente, capturando 200 imágenes con 1mm de distancia entre una y otra, desde el pecho hasta el abdomen, la profundidad de la imagen representa 200mm de espacio físico sobre cuerpo del paciente.*\n",
    "<figure>\n",
    "    <img src='attachments/medical-image-tensor.png' width=1000 style=\"display: block; margin: 0 auto;\" />\n",
    "    <figcaption style=\"text-align: center;\"> Stevens, Eli. (2020). Slices of a CT scan, from the top of the head to the jawline. In Stevens, Eli, <i>Deep Learning with PyTorch</i> (p. 72).\n",
    "    </figcaption>\n",
    "</figure>\n",
    "\n",
    "- *Las imágenes médicas tienen un único canal de colores, con una sola intesidad (blanco y negro). Entonces, para representar una imagen médica, necesitamos cuatro dimensiones: el canal, la profundidad, la altura y el ancho.*"
   ]
  },
  {
   "cell_type": "code",
   "execution_count": null,
   "id": "b84c9e71",
   "metadata": {},
   "outputs": [
    {
     "name": "stdout",
     "output_type": "stream",
     "text": [
      "Found 99 files\n",
      "\n",
      "Reading DICOM (examining files): 1/99 files (1.0%99/99 files (100.0%)\n",
      "  Found 1 correct series.\n",
      "Reading DICOM (examining files): 1/99 files (1.0%99/99 files (100.0%)\n",
      "  Found 1 correct series.\n",
      "Reading DICOM (examining files): 1/99 files (1.0%99/99 files (100.0%)\n",
      "  Found 1 correct series.\n",
      "Reading DICOM (examining files): 1/99 files (1.0%99/99 files (100.0%)\n",
      "  Found 1 correct series.\n",
      "Reading DICOM (examining files): 1/99 files (1.0%99/99 files (100.0%)\n",
      "  Found 1 correct series.\n",
      "Reading DICOM (examining files): 1/99 files (1.0%99/99 files (100.0%)\n",
      "  Found 1 correct series.\n",
      "Reading DICOM (examining files): 1/99 files (1.0%99/99 files (100.0%)\n",
      "  Found 1 correct series.\n",
      "Reading DICOM (examining files): 1/99 files (1.0%99/99 files (100.0%)\n",
      "  Found 1 correct series.\n",
      "Reading DICOM (examining files): 1/99 files (1.0%99/99 files (100.0%)\n",
      "  Found 1 correct series.\n",
      "Reading DICOM (examining files): 1/99 files (1.0%99/99 files (100.0%)\n",
      "  Found 1 correct series.\n",
      "Reading DICOM (examining files): 1/99 files (1.0%99/99 files (100.0%)\n",
      "  Found 1 correct series.\n",
      "Reading DICOM (examining files): 1/99 files (1.0%99/99 files (100.0%)\n",
      "  Found 1 correct series.\n",
      "Reading DICOM (examining files): 1/99 files (1.0%99/99 files (100.0%)\n",
      "  Found 1 correct series.\n",
      "Reading DICOM (examining files): 1/99 files (1.0%99/99 files (100.0%)\n",
      "  Found 1 correct series.\n",
      "Reading DICOM (examining files): 1/99 files (1.0%99/99 files (100.0%)\n",
      "  Found 1 correct series.\n",
      "Reading DICOM (examining files): 1/99 files (1.0%99/99 files (100.0%)\n",
      "  Found 1 correct series.\n",
      "Reading DICOM (examining files): 1/99 files (1.0%99/99 files (100.0%)\n",
      "  Found 1 correct series.\n",
      "Reading DICOM (examining files): 1/99 files (1.0%99/99 files (100.0%)\n",
      "  Found 1 correct series.\n",
      "Reading DICOM (examining files): 1/99 files (1.0%99/99 files (100.0%)\n",
      "  Found 1 correct series.\n",
      "Reading DICOM (examining files): 1/99 files (1.0%99/99 files (100.0%)\n",
      "  Found 1 correct series.\n",
      "Reading DICOM (examining files): 1/99 files (1.0%99/99 files (100.0%)\n",
      "  Found 1 correct series.\n",
      "Reading DICOM (examining files): 1/99 files (1.0%99/99 files (100.0%)\n",
      "  Found 1 correct series.\n",
      "Reading DICOM (examining files): 1/99 files (1.0%99/99 files (100.0%)\n",
      "  Found 1 correct series.\n",
      "Reading DICOM (examining files): 1/99 files (1.0%99/99 files (100.0%)\n",
      "  Found 1 correct series.\n",
      "Reading DICOM (examining files): 1/99 files (1.0%99/99 files (100.0%)\n",
      "  Found 1 correct series.\n",
      "Reading DICOM (examining files): 1/99 files (1.0%99/99 files (100.0%)\n",
      "  Found 1 correct series.\n",
      "Reading DICOM (examining files): 1/99 files (1.0%99/99 files (100.0%)\n",
      "  Found 1 correct series.\n",
      "Reading DICOM (examining files): 1/99 files (1.0%99/99 files (100.0%)\n",
      "  Found 1 correct series.\n",
      "Reading DICOM (examining files): 1/99 files (1.0%99/99 files (100.0%)\n",
      "  Found 1 correct series.\n",
      "Reading DICOM (examining files): 1/99 files (1.0%99/99 files (100.0%)\n",
      "  Found 1 correct series.\n",
      "Reading DICOM (examining files): 1/99 files (1.0%99/99 files (100.0%)\n",
      "  Found 1 correct series.\n",
      "Reading DICOM (examining files): 1/99 files (1.0%99/99 files (100.0%)\n",
      "  Found 1 correct series.\n",
      "Reading DICOM (examining files): 1/99 files (1.0%99/99 files (100.0%)\n",
      "  Found 1 correct series.\n",
      "Reading DICOM (examining files): 1/99 files (1.0%99/99 files (100.0%)\n",
      "  Found 1 correct series.\n",
      "Reading DICOM (examining files): 1/99 files (1.0%99/99 files (100.0%)\n",
      "  Found 1 correct series.\n",
      "Reading DICOM (examining files): 1/99 files (1.0%99/99 files (100.0%)\n",
      "  Found 1 correct series.\n",
      "Reading DICOM (examining files): 1/99 files (1.0%99/99 files (100.0%)\n",
      "  Found 1 correct series.\n",
      "Reading DICOM (examining files): 1/99 files (1.0%99/99 files (100.0%)\n",
      "  Found 1 correct series.\n",
      "Reading DICOM (examining files): 1/99 files (1.0%99/99 files (100.0%)\n",
      "  Found 1 correct series.\n",
      "Reading DICOM (examining files): 1/99 files (1.0%99/99 files (100.0%)\n",
      "  Found 1 correct series.\n",
      "Reading DICOM (examining files): 1/99 files (1.0%99/99 files (100.0%)\n",
      "  Found 1 correct series.\n",
      "Reading DICOM (examining files): 1/99 files (1.0%99/99 files (100.0%)\n",
      "  Found 1 correct series.\n",
      "Reading DICOM (examining files): 1/99 files (1.0%99/99 files (100.0%)\n",
      "  Found 1 correct series.\n",
      "Reading DICOM (examining files): 1/99 files (1.0%99/99 files (100.0%)\n",
      "  Found 1 correct series.\n",
      "Reading DICOM (examining files): 1/99 files (1.0%99/99 files (100.0%)\n",
      "  Found 1 correct series.\n",
      "Reading DICOM (examining files): 1/99 files (1.0%99/99 files (100.0%)\n",
      "  Found 1 correct series.\n",
      "Reading DICOM (examining files): 1/99 files (1.0%99/99 files (100.0%)\n",
      "  Found 1 correct series.\n",
      "Reading DICOM (examining files): 1/99 files (1.0%99/99 files (100.0%)\n",
      "  Found 1 correct series.\n",
      "Reading DICOM (examining files): 1/99 files (1.0%99/99 files (100.0%)\n",
      "  Found 1 correct series.\n",
      "Reading DICOM (examining files): 1/99 files (1.0%99/99 files (100.0%)\n",
      "  Found 1 correct series.\n",
      "Reading DICOM (examining files): 1/99 files (1.0%99/99 files (100.0%)\n",
      "  Found 1 correct series.\n",
      "Reading DICOM (examining files): 1/99 files (1.0%99/99 files (100.0%)\n",
      "  Found 1 correct series.\n",
      "Reading DICOM (examining files): 1/99 files (1.0%99/99 files (100.0%)\n",
      "  Found 1 correct series.\n",
      "Reading DICOM (examining files): 1/99 files (1.0%99/99 files (100.0%)\n",
      "  Found 1 correct series.\n",
      "Reading DICOM (examining files): 1/99 files (1.0%99/99 files (100.0%)\n",
      "  Found 1 correct series.\n",
      "Reading DICOM (examining files): 1/99 files (1.0%99/99 files (100.0%)\n",
      "  Found 1 correct series.\n",
      "Reading DICOM (examining files): 1/99 files (1.0%99/99 files (100.0%)\n",
      "  Found 1 correct series.\n",
      "Reading DICOM (examining files): 1/99 files (1.0%99/99 files (100.0%)\n",
      "  Found 1 correct series.\n",
      "Reading DICOM (examining files): 1/99 files (1.0%99/99 files (100.0%)\n",
      "  Found 1 correct series.\n",
      "Reading DICOM (examining files): 1/99 files (1.0%99/99 files (100.0%)\n",
      "  Found 1 correct series.\n",
      "Reading DICOM (examining files): 1/99 files (1.0%99/99 files (100.0%)\n",
      "  Found 1 correct series.\n",
      "Reading DICOM (examining files): 1/99 files (1.0%99/99 files (100.0%)\n",
      "  Found 1 correct series.\n",
      "Reading DICOM (examining files): 1/99 files (1.0%99/99 files (100.0%)\n",
      "  Found 1 correct series.\n",
      "Reading DICOM (examining files): 1/99 files (1.0%99/99 files (100.0%)\n",
      "  Found 1 correct series.\n",
      "Reading DICOM (examining files): 1/99 files (1.0%99/99 files (100.0%)\n",
      "  Found 1 correct series.\n",
      "Reading DICOM (examining files): 1/99 files (1.0%99/99 files (100.0%)\n",
      "  Found 1 correct series.\n",
      "Reading DICOM (examining files): 1/99 files (1.0%99/99 files (100.0%)\n",
      "  Found 1 correct series.\n",
      "Reading DICOM (examining files): 1/99 files (1.0%99/99 files (100.0%)\n",
      "  Found 1 correct series.\n",
      "Reading DICOM (examining files): 1/99 files (1.0%99/99 files (100.0%)\n",
      "  Found 1 correct series.\n",
      "Reading DICOM (examining files): 1/99 files (1.0%99/99 files (100.0%)\n",
      "  Found 1 correct series.\n",
      "Reading DICOM (examining files): 1/99 files (1.0%99/99 files (100.0%)\n",
      "  Found 1 correct series.\n",
      "Reading DICOM (examining files): 1/99 files (1.0%99/99 files (100.0%)\n",
      "  Found 1 correct series.\n",
      "Reading DICOM (examining files): 1/99 files (1.0%99/99 files (100.0%)\n",
      "  Found 1 correct series.\n",
      "Reading DICOM (examining files): 1/99 files (1.0%99/99 files (100.0%)\n",
      "  Found 1 correct series.\n",
      "Reading DICOM (examining files): 1/99 files (1.0%99/99 files (100.0%)\n",
      "  Found 1 correct series.\n",
      "Reading DICOM (examining files): 1/99 files (1.0%99/99 files (100.0%)\n",
      "  Found 1 correct series.\n",
      "Reading DICOM (examining files): 1/99 files (1.0%99/99 files (100.0%)\n",
      "  Found 1 correct series.\n",
      "Reading DICOM (examining files): 1/99 files (1.0%99/99 files (100.0%)\n",
      "  Found 1 correct series.\n",
      "Reading DICOM (examining files): 1/99 files (1.0%99/99 files (100.0%)\n",
      "  Found 1 correct series.\n",
      "Reading DICOM (examining files): 1/99 files (1.0%99/99 files (100.0%)\n",
      "  Found 1 correct series.\n",
      "Reading DICOM (examining files): 1/99 files (1.0%99/99 files (100.0%)\n",
      "  Found 1 correct series.\n",
      "Reading DICOM (examining files): 1/99 files (1.0%99/99 files (100.0%)\n",
      "  Found 1 correct series.\n",
      "Reading DICOM (examining files): 1/99 files (1.0%99/99 files (100.0%)\n",
      "  Found 1 correct series.\n",
      "Reading DICOM (examining files): 1/99 files (1.0%99/99 files (100.0%)\n",
      "  Found 1 correct series.\n",
      "Reading DICOM (examining files): 1/99 files (1.0%99/99 files (100.0%)\n",
      "  Found 1 correct series.\n",
      "Reading DICOM (examining files): 1/99 files (1.0%99/99 files (100.0%)\n",
      "  Found 1 correct series.\n",
      "Reading DICOM (examining files): 1/99 files (1.0%99/99 files (100.0%)\n",
      "  Found 1 correct series.\n",
      "Reading DICOM (examining files): 1/99 files (1.0%99/99 files (100.0%)\n",
      "  Found 1 correct series.\n",
      "Reading DICOM (examining files): 1/99 files (1.0%99/99 files (100.0%)\n",
      "  Found 1 correct series.\n",
      "Reading DICOM (examining files): 1/99 files (1.0%99/99 files (100.0%)\n",
      "  Found 1 correct series.\n",
      "Reading DICOM (examining files): 1/99 files (1.0%99/99 files (100.0%)\n",
      "  Found 1 correct series.\n",
      "Reading DICOM (examining files): 1/99 files (1.0%99/99 files (100.0%)\n",
      "  Found 1 correct series.\n",
      "Reading DICOM (examining files): 1/99 files (1.0%99/99 files (100.0%)\n",
      "  Found 1 correct series.\n",
      "Reading DICOM (examining files): 1/99 files (1.0%99/99 files (100.0%)\n",
      "  Found 1 correct series.\n",
      "Reading DICOM (examining files): 1/99 files (1.0%99/99 files (100.0%)\n",
      "  Found 1 correct series.\n",
      "Reading DICOM (examining files): 1/99 files (1.0%99/99 files (100.0%)\n",
      "  Found 1 correct series.\n",
      "Reading DICOM (examining files): 1/99 files (1.0%99/99 files (100.0%)\n",
      "  Found 1 correct series.\n",
      "Reading DICOM (examining files): 1/99 files (1.0%99/99 files (100.0%)\n",
      "  Found 1 correct series.\n",
      "Reading DICOM (examining files): 1/99 files (1.0%99/99 files (100.0%)\n",
      "  Found 1 correct series.\n",
      "\n",
      "Volume shape: (99, 512, 512)\n",
      "\n",
      "Volume tensor shape: torch.Size([99, 512, 512])\n"
     ]
    }
   ],
   "source": [
    "# Set the directory containing the DICOM files\n",
    "directory = '../data/fundamentals/volume-data'\n",
    "\n",
    "# Get a list of all DICOM files in the directory\n",
    "files = sorted(glob(os.path.join(directory, '*.dcm')))\n",
    "print(f'Found {len(files)} files\\n')\n",
    "\n",
    "# Loads the DICOM files into a list. Each element is a 2D array that represents a slice of the volume\n",
    "dicom_files = [imageio.imread(file, plugin='DICOM') for file in files]\n",
    "\n",
    "# Create a 3D array and create a tensor\n",
    "volume_arr = np.stack(dicom_files, axis=0)\n",
    "print(f'\\nVolume shape: {volume_arr.shape}')\n",
    "\n",
    "# Convert the volume to a tensor\n",
    "volume = torch.from_numpy(volume_arr).to(device=device)\n",
    "print(f'\\nVolume tensor shape: {volume.shape}')"
   ]
  },
  {
   "cell_type": "markdown",
   "id": "20de8627",
   "metadata": {},
   "source": [
    "- *Todavía falta incluir el canal en nuestro tensor. Utilizamos la función `torch.unsqueeze()`, que nos permite agregar una dimensión de tamaño uno.*"
   ]
  },
  {
   "cell_type": "code",
   "execution_count": 66,
   "id": "bcae5d40",
   "metadata": {},
   "outputs": [
    {
     "name": "stdout",
     "output_type": "stream",
     "text": [
      "Volume tensor shape after unsqueeze: torch.Size([1, 99, 512, 512])\n"
     ]
    }
   ],
   "source": [
    "volume = torch.unsqueeze(volume, 0)\n",
    "print(f'Volume tensor shape after unsqueeze: {volume.shape}')"
   ]
  },
  {
   "cell_type": "markdown",
   "id": "f111413e",
   "metadata": {},
   "source": [
    "# Datos tabulares"
   ]
  },
  {
   "cell_type": "markdown",
   "id": "ab9109bd",
   "metadata": {},
   "source": [
    "- *Los datos tabulares son, típicamente, no homogéneos. Esto quiere decir que nos podemos encontrar con una columna que tenga datos númericos, otra que tenga datos booleanos, y otra que tenga texto.*\n",
    "- *Por otro lado, los tensores de PyTorch son homogéneos. La información se encuentra codificada en números, ya que las redes neuronales son entidades matemáticas que reciben números como inputs y devuelven números como output.*"
   ]
  },
  {
   "cell_type": "code",
   "execution_count": null,
   "id": "c099815f",
   "metadata": {},
   "outputs": [
    {
     "data": {
      "application/vnd.microsoft.datawrangler.viewer.v0+json": {
       "columns": [
        {
         "name": "index",
         "rawType": "int64",
         "type": "integer"
        },
        {
         "name": "fixed acidity",
         "rawType": "float64",
         "type": "float"
        },
        {
         "name": "volatile acidity",
         "rawType": "float64",
         "type": "float"
        },
        {
         "name": "citric acid",
         "rawType": "float64",
         "type": "float"
        },
        {
         "name": "residual sugar",
         "rawType": "float64",
         "type": "float"
        },
        {
         "name": "chlorides",
         "rawType": "float64",
         "type": "float"
        },
        {
         "name": "free sulfur dioxide",
         "rawType": "float64",
         "type": "float"
        },
        {
         "name": "total sulfur dioxide",
         "rawType": "float64",
         "type": "float"
        },
        {
         "name": "density",
         "rawType": "float64",
         "type": "float"
        },
        {
         "name": "pH",
         "rawType": "float64",
         "type": "float"
        },
        {
         "name": "sulphates",
         "rawType": "float64",
         "type": "float"
        },
        {
         "name": "alcohol",
         "rawType": "float64",
         "type": "float"
        },
        {
         "name": "quality",
         "rawType": "int64",
         "type": "integer"
        }
       ],
       "conversionMethod": "pd.DataFrame",
       "ref": "f0c68974-dbaa-43e6-80fc-9465c86603f6",
       "rows": [
        [
         "0",
         "7.0",
         "0.27",
         "0.36",
         "20.7",
         "0.045",
         "45.0",
         "170.0",
         "1.001",
         "3.0",
         "0.45",
         "8.8",
         "6"
        ],
        [
         "1",
         "6.3",
         "0.3",
         "0.34",
         "1.6",
         "0.049",
         "14.0",
         "132.0",
         "0.994",
         "3.3",
         "0.49",
         "9.5",
         "6"
        ],
        [
         "2",
         "8.1",
         "0.28",
         "0.4",
         "6.9",
         "0.05",
         "30.0",
         "97.0",
         "0.9951",
         "3.26",
         "0.44",
         "10.1",
         "6"
        ],
        [
         "3",
         "7.2",
         "0.23",
         "0.32",
         "8.5",
         "0.058",
         "47.0",
         "186.0",
         "0.9956",
         "3.19",
         "0.4",
         "9.9",
         "6"
        ],
        [
         "4",
         "7.2",
         "0.23",
         "0.32",
         "8.5",
         "0.058",
         "47.0",
         "186.0",
         "0.9956",
         "3.19",
         "0.4",
         "9.9",
         "6"
        ]
       ],
       "shape": {
        "columns": 12,
        "rows": 5
       }
      },
      "text/html": [
       "<div>\n",
       "<style scoped>\n",
       "    .dataframe tbody tr th:only-of-type {\n",
       "        vertical-align: middle;\n",
       "    }\n",
       "\n",
       "    .dataframe tbody tr th {\n",
       "        vertical-align: top;\n",
       "    }\n",
       "\n",
       "    .dataframe thead th {\n",
       "        text-align: right;\n",
       "    }\n",
       "</style>\n",
       "<table border=\"1\" class=\"dataframe\">\n",
       "  <thead>\n",
       "    <tr style=\"text-align: right;\">\n",
       "      <th></th>\n",
       "      <th>fixed acidity</th>\n",
       "      <th>volatile acidity</th>\n",
       "      <th>citric acid</th>\n",
       "      <th>residual sugar</th>\n",
       "      <th>chlorides</th>\n",
       "      <th>free sulfur dioxide</th>\n",
       "      <th>total sulfur dioxide</th>\n",
       "      <th>density</th>\n",
       "      <th>pH</th>\n",
       "      <th>sulphates</th>\n",
       "      <th>alcohol</th>\n",
       "      <th>quality</th>\n",
       "    </tr>\n",
       "  </thead>\n",
       "  <tbody>\n",
       "    <tr>\n",
       "      <th>0</th>\n",
       "      <td>7.0</td>\n",
       "      <td>0.27</td>\n",
       "      <td>0.36</td>\n",
       "      <td>20.7</td>\n",
       "      <td>0.045</td>\n",
       "      <td>45.0</td>\n",
       "      <td>170.0</td>\n",
       "      <td>1.0010</td>\n",
       "      <td>3.00</td>\n",
       "      <td>0.45</td>\n",
       "      <td>8.8</td>\n",
       "      <td>6</td>\n",
       "    </tr>\n",
       "    <tr>\n",
       "      <th>1</th>\n",
       "      <td>6.3</td>\n",
       "      <td>0.30</td>\n",
       "      <td>0.34</td>\n",
       "      <td>1.6</td>\n",
       "      <td>0.049</td>\n",
       "      <td>14.0</td>\n",
       "      <td>132.0</td>\n",
       "      <td>0.9940</td>\n",
       "      <td>3.30</td>\n",
       "      <td>0.49</td>\n",
       "      <td>9.5</td>\n",
       "      <td>6</td>\n",
       "    </tr>\n",
       "    <tr>\n",
       "      <th>2</th>\n",
       "      <td>8.1</td>\n",
       "      <td>0.28</td>\n",
       "      <td>0.40</td>\n",
       "      <td>6.9</td>\n",
       "      <td>0.050</td>\n",
       "      <td>30.0</td>\n",
       "      <td>97.0</td>\n",
       "      <td>0.9951</td>\n",
       "      <td>3.26</td>\n",
       "      <td>0.44</td>\n",
       "      <td>10.1</td>\n",
       "      <td>6</td>\n",
       "    </tr>\n",
       "    <tr>\n",
       "      <th>3</th>\n",
       "      <td>7.2</td>\n",
       "      <td>0.23</td>\n",
       "      <td>0.32</td>\n",
       "      <td>8.5</td>\n",
       "      <td>0.058</td>\n",
       "      <td>47.0</td>\n",
       "      <td>186.0</td>\n",
       "      <td>0.9956</td>\n",
       "      <td>3.19</td>\n",
       "      <td>0.40</td>\n",
       "      <td>9.9</td>\n",
       "      <td>6</td>\n",
       "    </tr>\n",
       "    <tr>\n",
       "      <th>4</th>\n",
       "      <td>7.2</td>\n",
       "      <td>0.23</td>\n",
       "      <td>0.32</td>\n",
       "      <td>8.5</td>\n",
       "      <td>0.058</td>\n",
       "      <td>47.0</td>\n",
       "      <td>186.0</td>\n",
       "      <td>0.9956</td>\n",
       "      <td>3.19</td>\n",
       "      <td>0.40</td>\n",
       "      <td>9.9</td>\n",
       "      <td>6</td>\n",
       "    </tr>\n",
       "  </tbody>\n",
       "</table>\n",
       "</div>"
      ],
      "text/plain": [
       "   fixed acidity  volatile acidity  citric acid  residual sugar  chlorides  \\\n",
       "0            7.0              0.27         0.36            20.7      0.045   \n",
       "1            6.3              0.30         0.34             1.6      0.049   \n",
       "2            8.1              0.28         0.40             6.9      0.050   \n",
       "3            7.2              0.23         0.32             8.5      0.058   \n",
       "4            7.2              0.23         0.32             8.5      0.058   \n",
       "\n",
       "   free sulfur dioxide  total sulfur dioxide  density    pH  sulphates  \\\n",
       "0                 45.0                 170.0   1.0010  3.00       0.45   \n",
       "1                 14.0                 132.0   0.9940  3.30       0.49   \n",
       "2                 30.0                  97.0   0.9951  3.26       0.44   \n",
       "3                 47.0                 186.0   0.9956  3.19       0.40   \n",
       "4                 47.0                 186.0   0.9956  3.19       0.40   \n",
       "\n",
       "   alcohol  quality  \n",
       "0      8.8        6  \n",
       "1      9.5        6  \n",
       "2     10.1        6  \n",
       "3      9.9        6  \n",
       "4      9.9        6  "
      ]
     },
     "execution_count": 73,
     "metadata": {},
     "output_type": "execute_result"
    }
   ],
   "source": [
    "# Loads dataset using Pandas\n",
    "df = pd.read_parquet('../data/fundamentals/tabular-data/winequality-white.parquet')\n",
    "df.head()"
   ]
  },
  {
   "cell_type": "code",
   "execution_count": null,
   "id": "5a0dee61",
   "metadata": {},
   "outputs": [
    {
     "data": {
      "text/plain": [
       "array([[ 7.  ,  0.27,  0.36, ...,  0.45,  8.8 ,  6.  ],\n",
       "       [ 6.3 ,  0.3 ,  0.34, ...,  0.49,  9.5 ,  6.  ],\n",
       "       [ 8.1 ,  0.28,  0.4 , ...,  0.44, 10.1 ,  6.  ],\n",
       "       ...,\n",
       "       [ 6.5 ,  0.24,  0.19, ...,  0.46,  9.4 ,  6.  ],\n",
       "       [ 5.5 ,  0.29,  0.3 , ...,  0.38, 12.8 ,  7.  ],\n",
       "       [ 6.  ,  0.21,  0.38, ...,  0.32, 11.8 ,  6.  ]], shape=(4898, 12))"
      ]
     },
     "execution_count": 74,
     "metadata": {},
     "output_type": "execute_result"
    }
   ],
   "source": [
    "# Convert the data to a NumPy array\n",
    "wine_array = df.to_numpy()\n",
    "wine_array"
   ]
  },
  {
   "cell_type": "code",
   "execution_count": 77,
   "id": "48c85f66",
   "metadata": {},
   "outputs": [
    {
     "name": "stdout",
     "output_type": "stream",
     "text": [
      "Tensor data:\n",
      " tensor([[ 7.0000,  0.2700,  0.3600,  ...,  0.4500,  8.8000,  6.0000],\n",
      "        [ 6.3000,  0.3000,  0.3400,  ...,  0.4900,  9.5000,  6.0000],\n",
      "        [ 8.1000,  0.2800,  0.4000,  ...,  0.4400, 10.1000,  6.0000],\n",
      "        ...,\n",
      "        [ 6.5000,  0.2400,  0.1900,  ...,  0.4600,  9.4000,  6.0000],\n",
      "        [ 5.5000,  0.2900,  0.3000,  ...,  0.3800, 12.8000,  7.0000],\n",
      "        [ 6.0000,  0.2100,  0.3800,  ...,  0.3200, 11.8000,  6.0000]],\n",
      "       device='mps:0')\n",
      "Tensor shape: torch.Size([4898, 12])\n"
     ]
    }
   ],
   "source": [
    "tensor = torch.from_numpy(wine_array).to(dtype=torch.float32, device='mps')\n",
    "print(f'Tensor data:\\n {tensor}')\n",
    "print(f'Tensor shape: {tensor.shape}')"
   ]
  },
  {
   "cell_type": "code",
   "execution_count": null,
   "id": "32eee239",
   "metadata": {},
   "outputs": [],
   "source": [
    "# Separate the features and the target\n",
    "X = tensor[:, :-1]\n",
    "y = tensor[:, -1]"
   ]
  }
 ],
 "metadata": {
  "kernelspec": {
   "display_name": "pytorch",
   "language": "python",
   "name": "python3"
  },
  "language_info": {
   "codemirror_mode": {
    "name": "ipython",
    "version": 3
   },
   "file_extension": ".py",
   "mimetype": "text/x-python",
   "name": "python",
   "nbconvert_exporter": "python",
   "pygments_lexer": "ipython3",
   "version": "3.11.11"
  }
 },
 "nbformat": 4,
 "nbformat_minor": 5
}
