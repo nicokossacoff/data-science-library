{
 "cells": [
  {
   "metadata": {
    "ExecuteTime": {
     "end_time": "2025-04-27T22:57:58.487454Z",
     "start_time": "2025-04-27T22:57:57.864413Z"
    }
   },
   "cell_type": "code",
   "source": "import torch",
   "id": "7651bf4dc2dcc2ba",
   "outputs": [],
   "execution_count": 1
  },
  {
   "metadata": {},
   "cell_type": "markdown",
   "source": [
    "# Operaciones con tensores\n",
    "\n",
    "*Las operaciones más comunes son:*\n",
    "1. *Suma.*\n",
    "2. *Resta.*\n",
    "3. *Multiplicación.*\n",
    "4. *División.*\n",
    "5. *Producto de matrices.*"
   ],
   "id": "1305426e7e34558"
  },
  {
   "metadata": {
    "ExecuteTime": {
     "end_time": "2025-04-27T22:57:58.600224Z",
     "start_time": "2025-04-27T22:57:58.539040Z"
    }
   },
   "cell_type": "code",
   "source": [
    "X = torch.tensor([1, 2, 3], device='mps')\n",
    "X"
   ],
   "id": "a0dd823983899f5a",
   "outputs": [
    {
     "data": {
      "text/plain": [
       "tensor([1, 2, 3], device='mps:0')"
      ]
     },
     "execution_count": 2,
     "metadata": {},
     "output_type": "execute_result"
    }
   ],
   "execution_count": 2
  },
  {
   "metadata": {},
   "cell_type": "markdown",
   "source": "*Podemos ver que las primeras cuatro operaciones (i.e., suma, resta, multiplicación y división) se realizan elemento a elemento, al igual que en NumPy. Por ejemplo, si la operación es $X + 100$, al primer elemento del tensor $X$ le sumamos 100, al segundo elemento del tensor $X$ se le suma 100, y así para todos los elementos.*",
   "id": "e949cbff0a7e7591"
  },
  {
   "metadata": {
    "ExecuteTime": {
     "end_time": "2025-04-27T22:57:58.727494Z",
     "start_time": "2025-04-27T22:57:58.611363Z"
    }
   },
   "cell_type": "code",
   "source": [
    "# Suma\n",
    "print(f'X: {X}')\n",
    "y = X + 100\n",
    "print(f'y: {y}')"
   ],
   "id": "76291c8b20a23d74",
   "outputs": [
    {
     "name": "stdout",
     "output_type": "stream",
     "text": [
      "X: tensor([1, 2, 3], device='mps:0')\n",
      "y: tensor([101, 102, 103], device='mps:0')\n"
     ]
    }
   ],
   "execution_count": 3
  },
  {
   "metadata": {
    "ExecuteTime": {
     "end_time": "2025-04-27T22:58:00.682334Z",
     "start_time": "2025-04-27T22:57:58.738382Z"
    }
   },
   "cell_type": "code",
   "source": [
    "X = torch.ones(size=(3, 3), device='mps')\n",
    "print(f'X:\\n {X}')\n",
    "y = torch.randint_like(X, low=0, high=10)\n",
    "print(f'y:\\n {y}')\n",
    "\n",
    "z = X + y\n",
    "print(f'Suma:\\n {z}')"
   ],
   "id": "52ce5cf0ffb885a0",
   "outputs": [
    {
     "name": "stdout",
     "output_type": "stream",
     "text": [
      "X:\n",
      " tensor([[1., 1., 1.],\n",
      "        [1., 1., 1.],\n",
      "        [1., 1., 1.]], device='mps:0')\n",
      "y:\n",
      " tensor([[2., 4., 8.],\n",
      "        [8., 0., 1.],\n",
      "        [3., 7., 2.]], device='mps:0')\n",
      "Suma:\n",
      " tensor([[3., 5., 9.],\n",
      "        [9., 1., 2.],\n",
      "        [4., 8., 3.]], device='mps:0')\n"
     ]
    }
   ],
   "execution_count": 4
  },
  {
   "metadata": {
    "ExecuteTime": {
     "end_time": "2025-04-27T22:58:00.741381Z",
     "start_time": "2025-04-27T22:58:00.705983Z"
    }
   },
   "cell_type": "code",
   "source": [
    "# Resta\n",
    "print(f'X: {X}')\n",
    "y = X - 100\n",
    "print(f'y: {y}')"
   ],
   "id": "81c610938263b87f",
   "outputs": [
    {
     "name": "stdout",
     "output_type": "stream",
     "text": [
      "X: tensor([[1., 1., 1.],\n",
      "        [1., 1., 1.],\n",
      "        [1., 1., 1.]], device='mps:0')\n",
      "y: tensor([[-99., -99., -99.],\n",
      "        [-99., -99., -99.],\n",
      "        [-99., -99., -99.]], device='mps:0')\n"
     ]
    }
   ],
   "execution_count": 5
  },
  {
   "metadata": {
    "ExecuteTime": {
     "end_time": "2025-04-27T22:58:00.801219Z",
     "start_time": "2025-04-27T22:58:00.768209Z"
    }
   },
   "cell_type": "code",
   "source": [
    "# Multiplicación\n",
    "X = torch.ones(size=(3, 3), device='mps')\n",
    "print(f'X:\\n {X}')\n",
    "\n",
    "y = X * 25\n",
    "print(f'Multiply X by 25:\\n {y}')"
   ],
   "id": "c512eaa1dafe8fbb",
   "outputs": [
    {
     "name": "stdout",
     "output_type": "stream",
     "text": [
      "X:\n",
      " tensor([[1., 1., 1.],\n",
      "        [1., 1., 1.],\n",
      "        [1., 1., 1.]], device='mps:0')\n",
      "Multiply X by 25:\n",
      " tensor([[25., 25., 25.],\n",
      "        [25., 25., 25.],\n",
      "        [25., 25., 25.]], device='mps:0')\n"
     ]
    }
   ],
   "execution_count": 6
  },
  {
   "metadata": {
    "ExecuteTime": {
     "end_time": "2025-04-27T22:58:00.880806Z",
     "start_time": "2025-04-27T22:58:00.826492Z"
    }
   },
   "cell_type": "code",
   "source": [
    "# División\n",
    "X = torch.ones(size=(3, 3), device='mps')\n",
    "print(f'X:\\n {X}')\n",
    "\n",
    "y = X / 25\n",
    "print(f'Divide X by 25:\\n {y}')"
   ],
   "id": "8ea111b358a6e66a",
   "outputs": [
    {
     "name": "stdout",
     "output_type": "stream",
     "text": [
      "X:\n",
      " tensor([[1., 1., 1.],\n",
      "        [1., 1., 1.],\n",
      "        [1., 1., 1.]], device='mps:0')\n",
      "Divide X by 25:\n",
      " tensor([[0.0400, 0.0400, 0.0400],\n",
      "        [0.0400, 0.0400, 0.0400],\n",
      "        [0.0400, 0.0400, 0.0400]], device='mps:0')\n"
     ]
    }
   ],
   "execution_count": 7
  },
  {
   "metadata": {},
   "cell_type": "markdown",
   "source": [
    "## Multipliación de matrices\n",
    "\n",
    "*En PyTorch tenemos dos formas de multiplicar matrices:*\n",
    "1. ***Multiplicación elemento a elemento (element-wise product).** Matemáticamente, no es una operación valida entre matrices, pero PyTorch nos permite realizar esa multiplicación donde el elemento $a_{i,j}$ de la matriz $A$ se multiplica con el elemento $b_{i,j}$ de la matriz $B$.*\n",
    "    - *Para poder realizar la multiplicación elemento a elemento, las matrices deben tener las mismas dimensiones.*\n",
    "2. ***Producto de matrices (dot product).** Esta es la multiplicación matemáticamente correcta de matrices.*\n",
    "    - *Las dimensiones de las matrices deben ser compatibles. Es decir, la cantidad de columnas en la matriz $A$ tiene que ser equivalente a la cantidad de filas de en la matriz $B$, por eso decimos que la multiplicación de matrices no es conmutativa (i.e., $A\\cdot B$ no es lo mismo que $B\\cdot A$).*\n",
    "    - *Si $A$ es una matriz de tamaño $m \\times n$ y $B$ es una matriz de tamaño $n \\times p$, entonces el producto de matrices $A \\cdot B$ es una matriz de tamaño $m \\times p$.*"
   ],
   "id": "c7913b044b9e643a"
  },
  {
   "metadata": {},
   "cell_type": "markdown",
   "source": "### Multiplicación elemento a elemento",
   "id": "16308ca029002f01"
  },
  {
   "metadata": {
    "ExecuteTime": {
     "end_time": "2025-04-27T22:58:00.940207Z",
     "start_time": "2025-04-27T22:58:00.903918Z"
    }
   },
   "cell_type": "code",
   "source": [
    "A = torch.randint(low=0, high=10, size=(3, 3), device='mps')\n",
    "B = torch.randint(low=0, high=10, size=(3, 3), device='mps')\n",
    "print(f'A:\\n {A}')\n",
    "print(f'B:\\n {B}')"
   ],
   "id": "a4cb7e2f94abe91f",
   "outputs": [
    {
     "name": "stdout",
     "output_type": "stream",
     "text": [
      "A:\n",
      " tensor([[4, 9, 8],\n",
      "        [8, 8, 6],\n",
      "        [2, 9, 5]], device='mps:0')\n",
      "B:\n",
      " tensor([[6, 7, 9],\n",
      "        [9, 1, 5],\n",
      "        [0, 0, 5]], device='mps:0')\n"
     ]
    }
   ],
   "execution_count": 8
  },
  {
   "metadata": {
    "ExecuteTime": {
     "end_time": "2025-04-27T22:58:01.011875Z",
     "start_time": "2025-04-27T22:58:00.968199Z"
    }
   },
   "cell_type": "code",
   "source": [
    "C = A * B\n",
    "print(f'A * B =\\n {C}')"
   ],
   "id": "8bc92f754300b720",
   "outputs": [
    {
     "name": "stdout",
     "output_type": "stream",
     "text": [
      "A * B =\n",
      " tensor([[24, 63, 72],\n",
      "        [72,  8, 30],\n",
      "        [ 0,  0, 25]], device='mps:0')\n"
     ]
    }
   ],
   "execution_count": 9
  },
  {
   "metadata": {},
   "cell_type": "markdown",
   "source": [
    "### Producto de matrices\n",
    "\n",
    "*Para el producto de matrices podemos utilizar las funciones `torch.matmul` y `torch.mm`, o el operador `@`.*"
   ],
   "id": "ac67486b47c67add"
  },
  {
   "metadata": {
    "ExecuteTime": {
     "end_time": "2025-04-27T22:58:01.045673Z",
     "start_time": "2025-04-27T22:58:01.040918Z"
    }
   },
   "cell_type": "code",
   "source": [
    "# Change device type to CPU because MPS does not support matrix multiplication for integers\n",
    "A = torch.randint(low=0, high=10, size=(3, 2), device='cpu')\n",
    "B = torch.randint(low=0, high=10, size=(2, 3), device='cpu')\n",
    "\n",
    "# Matrix multiplication\n",
    "C = torch.mm(A, B)\n",
    "print(f'A @ B =\\n {C}')"
   ],
   "id": "eb5975310d70e1d0",
   "outputs": [
    {
     "name": "stdout",
     "output_type": "stream",
     "text": [
      "A @ B =\n",
      " tensor([[75, 16, 93],\n",
      "        [12,  2, 16],\n",
      "        [ 9,  3,  9]])\n"
     ]
    }
   ],
   "execution_count": 10
  },
  {
   "metadata": {
    "ExecuteTime": {
     "end_time": "2025-04-27T22:58:01.070335Z",
     "start_time": "2025-04-27T22:58:01.067779Z"
    }
   },
   "cell_type": "code",
   "source": [
    "# Matrix multiplication using the @ operator\n",
    "print(A @ B)"
   ],
   "id": "b236a2d70bd60df2",
   "outputs": [
    {
     "name": "stdout",
     "output_type": "stream",
     "text": [
      "tensor([[75, 16, 93],\n",
      "        [12,  2, 16],\n",
      "        [ 9,  3,  9]])\n"
     ]
    }
   ],
   "execution_count": 11
  },
  {
   "metadata": {},
   "cell_type": "markdown",
   "source": "*Podemos transponer fácilmente una matriz utilizando la función `torch.transpose` o el método `.T`. Esto suele ser muy útil al tener que multiplicar matrices.*",
   "id": "80c7ba2710c6fe3e"
  },
  {
   "metadata": {
    "ExecuteTime": {
     "end_time": "2025-04-27T22:58:01.097767Z",
     "start_time": "2025-04-27T22:58:01.093733Z"
    }
   },
   "cell_type": "code",
   "source": [
    "# Create two random tensors with the same shape\n",
    "tensor_A = torch.rand(size=(3, 2))\n",
    "tensor_B = torch.rand(size=(3, 2))\n",
    "\n",
    "print(f'Original shapes: tensor_A = {tensor_A.shape} and tensor_B = {tensor_B.shape}')\n",
    "\n",
    "# Transpose the tensors\n",
    "tensor_C = torch.mm(tensor_A, tensor_B.T)\n",
    "print(f'Shapes after transpose: tensor_A = {tensor_A.shape} and tensor_B = {tensor_B.T.shape}')\n",
    "\n",
    "# Output:\n",
    "print(f'Output:\\n {tensor_C}')"
   ],
   "id": "d621761f9d8327e1",
   "outputs": [
    {
     "name": "stdout",
     "output_type": "stream",
     "text": [
      "Original shapes: tensor_A = torch.Size([3, 2]) and tensor_B = torch.Size([3, 2])\n",
      "Shapes after transpose: tensor_A = torch.Size([3, 2]) and tensor_B = torch.Size([2, 3])\n",
      "Output:\n",
      " tensor([[0.7623, 0.1659, 0.5608],\n",
      "        [0.9334, 0.1653, 0.3865],\n",
      "        [0.7834, 0.1416, 0.3469]])\n"
     ]
    }
   ],
   "execution_count": 12
  },
  {
   "metadata": {},
   "cell_type": "markdown",
   "source": [
    "# Agregación de tensores\n",
    "\n",
    "*Estas operaciones nos permiten obtener un único valor a partir de un tensor. Por ejemplo, la suma de los elementos del tensor, el valor máximo, el valor mínimo, el valor promedio, entre otros.*"
   ],
   "id": "f1bcc5326e5c8b1f"
  },
  {
   "metadata": {
    "ExecuteTime": {
     "end_time": "2025-04-27T22:58:01.121045Z",
     "start_time": "2025-04-27T22:58:01.118798Z"
    }
   },
   "cell_type": "code",
   "source": [
    "X = torch.arange(start=0, end=100, step=10)\n",
    "X"
   ],
   "id": "7174ac2cb0696ac2",
   "outputs": [
    {
     "data": {
      "text/plain": [
       "tensor([ 0, 10, 20, 30, 40, 50, 60, 70, 80, 90])"
      ]
     },
     "execution_count": 13,
     "metadata": {},
     "output_type": "execute_result"
    }
   ],
   "execution_count": 13
  },
  {
   "metadata": {
    "ExecuteTime": {
     "end_time": "2025-04-27T22:58:01.139562Z",
     "start_time": "2025-04-27T22:58:01.137316Z"
    }
   },
   "cell_type": "code",
   "source": "torch.min(X), X.min()",
   "id": "2ec4e2babf5085ba",
   "outputs": [
    {
     "data": {
      "text/plain": [
       "(tensor(0), tensor(0))"
      ]
     },
     "execution_count": 14,
     "metadata": {},
     "output_type": "execute_result"
    }
   ],
   "execution_count": 14
  },
  {
   "metadata": {
    "ExecuteTime": {
     "end_time": "2025-04-27T22:58:01.157081Z",
     "start_time": "2025-04-27T22:58:01.154501Z"
    }
   },
   "cell_type": "code",
   "source": "torch.max(X), X.max()",
   "id": "88b0e313e7252879",
   "outputs": [
    {
     "data": {
      "text/plain": [
       "(tensor(90), tensor(90))"
      ]
     },
     "execution_count": 15,
     "metadata": {},
     "output_type": "execute_result"
    }
   ],
   "execution_count": 15
  },
  {
   "metadata": {
    "ExecuteTime": {
     "end_time": "2025-04-27T22:58:01.175411Z",
     "start_time": "2025-04-27T22:58:01.172021Z"
    }
   },
   "cell_type": "code",
   "source": [
    "# We must change the datatype to float32 because torch.mean() does not support int64\n",
    "torch.mean(X.type(torch.float32)), X.type(torch.float32).mean()"
   ],
   "id": "3ed1529c0c37ddef",
   "outputs": [
    {
     "data": {
      "text/plain": [
       "(tensor(45.), tensor(45.))"
      ]
     },
     "execution_count": 16,
     "metadata": {},
     "output_type": "execute_result"
    }
   ],
   "execution_count": 16
  },
  {
   "metadata": {
    "ExecuteTime": {
     "end_time": "2025-04-27T22:58:01.193911Z",
     "start_time": "2025-04-27T22:58:01.191392Z"
    }
   },
   "cell_type": "code",
   "source": "torch.sum(X), X.sum()",
   "id": "f79573ff6172bef1",
   "outputs": [
    {
     "data": {
      "text/plain": [
       "(tensor(450), tensor(450))"
      ]
     },
     "execution_count": 17,
     "metadata": {},
     "output_type": "execute_result"
    }
   ],
   "execution_count": 17
  },
  {
   "metadata": {},
   "cell_type": "markdown",
   "source": "*Podemos también obtener la posición (índice) del elemento con el valor máximo/mínimo del tensor usando los métodos `argmax()` o `argmin()` respectivamente.*",
   "id": "2c430e5e02f3a8d9"
  },
  {
   "metadata": {
    "ExecuteTime": {
     "end_time": "2025-04-27T22:58:01.213103Z",
     "start_time": "2025-04-27T22:58:01.209235Z"
    }
   },
   "cell_type": "code",
   "source": [
    "print(f'Posición del valor máximo: {X.argmax()}')\n",
    "print(f'Posición del valor mínimo: {X.argmin()}')"
   ],
   "id": "b7d3ad7373a12eee",
   "outputs": [
    {
     "name": "stdout",
     "output_type": "stream",
     "text": [
      "Posición del valor máximo: 9\n",
      "Posición del valor mínimo: 0\n"
     ]
    }
   ],
   "execution_count": 18
  }
 ],
 "metadata": {
  "kernelspec": {
   "name": "python3",
   "language": "python",
   "display_name": "Python 3 (ipykernel)"
  }
 },
 "nbformat": 5,
 "nbformat_minor": 9
}
