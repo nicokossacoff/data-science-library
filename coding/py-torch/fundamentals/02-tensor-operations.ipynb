{
 "cells": [
  {
   "metadata": {
    "ExecuteTime": {
     "end_time": "2025-04-18T18:45:39.885017Z",
     "start_time": "2025-04-18T18:45:39.254238Z"
    }
   },
   "cell_type": "code",
   "source": [
    "import torch\n",
    "import numpy as np"
   ],
   "id": "7651bf4dc2dcc2ba",
   "outputs": [],
   "execution_count": 1
  },
  {
   "metadata": {},
   "cell_type": "markdown",
   "source": [
    "# Operaciones con tensores\n",
    "\n",
    "*Las operaciones más comunes son:*\n",
    "1. *Suma.*\n",
    "2. *Resta.*\n",
    "3. *Multiplicación.*\n",
    "4. *División.*\n",
    "5. *Producto de matrices.*"
   ],
   "id": "1305426e7e34558"
  },
  {
   "metadata": {
    "ExecuteTime": {
     "end_time": "2025-04-18T18:45:43.326923Z",
     "start_time": "2025-04-18T18:45:43.274563Z"
    }
   },
   "cell_type": "code",
   "source": [
    "X = torch.tensor([1, 2, 3], device='mps')\n",
    "X"
   ],
   "id": "a0dd823983899f5a",
   "outputs": [
    {
     "data": {
      "text/plain": [
       "tensor([1, 2, 3], device='mps:0')"
      ]
     },
     "execution_count": 2,
     "metadata": {},
     "output_type": "execute_result"
    }
   ],
   "execution_count": 2
  },
  {
   "metadata": {},
   "cell_type": "markdown",
   "source": "*Podemos ver que las primeras cuatro operaciones (i.e., suma, resta, multiplicación y división) se realizan elemento a elemento, al igual que en NumPy. Por ejemplo, si la operación es $X + 100$, al primer elemento del tensor $X$ le sumamos 100, al segundo elemento del tensor $X$ se le suma 100, y así para todos los elementos.*",
   "id": "e949cbff0a7e7591"
  },
  {
   "metadata": {
    "ExecuteTime": {
     "end_time": "2025-04-18T18:45:46.224043Z",
     "start_time": "2025-04-18T18:45:46.135484Z"
    }
   },
   "cell_type": "code",
   "source": [
    "# Suma\n",
    "print(f'X: {X}')\n",
    "y = X + 100\n",
    "print(f'y: {y}')"
   ],
   "id": "76291c8b20a23d74",
   "outputs": [
    {
     "name": "stdout",
     "output_type": "stream",
     "text": [
      "X: tensor([1, 2, 3], device='mps:0')\n",
      "y: tensor([101, 102, 103], device='mps:0')\n"
     ]
    }
   ],
   "execution_count": 3
  },
  {
   "metadata": {
    "ExecuteTime": {
     "end_time": "2025-04-18T18:51:51.329304Z",
     "start_time": "2025-04-18T18:51:51.195546Z"
    }
   },
   "cell_type": "code",
   "source": [
    "X = torch.ones(size=(3, 3), device='mps')\n",
    "print(f'X:\\n {X}')\n",
    "y = torch.randint_like(X, low=0, high=10)\n",
    "print(f'y:\\n {y}')\n",
    "\n",
    "z = X + y\n",
    "print(f'Suma:\\n {z}')"
   ],
   "id": "52ce5cf0ffb885a0",
   "outputs": [
    {
     "name": "stdout",
     "output_type": "stream",
     "text": [
      "X:\n",
      " tensor([[1., 1., 1.],\n",
      "        [1., 1., 1.],\n",
      "        [1., 1., 1.]], device='mps:0')\n",
      "y:\n",
      " tensor([[7., 2., 2.],\n",
      "        [7., 3., 3.],\n",
      "        [3., 7., 8.]], device='mps:0')\n",
      "Suma:\n",
      " tensor([[8., 3., 3.],\n",
      "        [8., 4., 4.],\n",
      "        [4., 8., 9.]], device='mps:0')\n"
     ]
    }
   ],
   "execution_count": 8
  },
  {
   "metadata": {
    "ExecuteTime": {
     "end_time": "2025-04-18T18:45:47.323526Z",
     "start_time": "2025-04-18T18:45:47.286731Z"
    }
   },
   "cell_type": "code",
   "source": [
    "# Resta\n",
    "print(f'X: {X}')\n",
    "y = X - 100\n",
    "print(f'y: {y}')"
   ],
   "id": "81c610938263b87f",
   "outputs": [
    {
     "name": "stdout",
     "output_type": "stream",
     "text": [
      "X: tensor([1, 2, 3], device='mps:0')\n",
      "y: tensor([-99, -98, -97], device='mps:0')\n"
     ]
    }
   ],
   "execution_count": 4
  },
  {
   "metadata": {
    "ExecuteTime": {
     "end_time": "2025-04-18T18:45:48.445560Z",
     "start_time": "2025-04-18T18:45:48.330764Z"
    }
   },
   "cell_type": "code",
   "source": [
    "# Multiplicación\n",
    "X = torch.ones(size=(3, 3), device='mps')\n",
    "print(f'X:\\n {X}')\n",
    "\n",
    "y = X * 25\n",
    "print(f'Multiply X by 25:\\n {y}')"
   ],
   "id": "c512eaa1dafe8fbb",
   "outputs": [
    {
     "name": "stdout",
     "output_type": "stream",
     "text": [
      "X:\n",
      " tensor([[1., 1., 1.],\n",
      "        [1., 1., 1.],\n",
      "        [1., 1., 1.]], device='mps:0')\n",
      "Multiply X by 25:\n",
      " tensor([[25., 25., 25.],\n",
      "        [25., 25., 25.],\n",
      "        [25., 25., 25.]], device='mps:0')\n"
     ]
    }
   ],
   "execution_count": 5
  },
  {
   "metadata": {
    "ExecuteTime": {
     "end_time": "2025-04-18T18:45:57.108653Z",
     "start_time": "2025-04-18T18:45:57.091822Z"
    }
   },
   "cell_type": "code",
   "source": [
    "# División\n",
    "X = torch.ones(size=(3, 3), device='mps')\n",
    "print(f'X:\\n {X}')\n",
    "\n",
    "y = X / 25\n",
    "print(f'Divide X by 25:\\n {y}')"
   ],
   "id": "8ea111b358a6e66a",
   "outputs": [
    {
     "name": "stdout",
     "output_type": "stream",
     "text": [
      "X:\n",
      " tensor([[1., 1., 1.],\n",
      "        [1., 1., 1.],\n",
      "        [1., 1., 1.]], device='mps:0')\n",
      "Divide X by 25:\n",
      " tensor([[0.0400, 0.0400, 0.0400],\n",
      "        [0.0400, 0.0400, 0.0400],\n",
      "        [0.0400, 0.0400, 0.0400]], device='mps:0')\n"
     ]
    }
   ],
   "execution_count": 7
  }
 ],
 "metadata": {
  "kernelspec": {
   "name": "python3",
   "language": "python",
   "display_name": "Python 3 (ipykernel)"
  }
 },
 "nbformat": 5,
 "nbformat_minor": 9
}
