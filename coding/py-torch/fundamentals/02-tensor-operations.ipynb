{
 "cells": [
  {
   "metadata": {
    "ExecuteTime": {
     "end_time": "2025-04-20T13:40:38.041336Z",
     "start_time": "2025-04-20T13:40:37.346628Z"
    }
   },
   "cell_type": "code",
   "source": [
    "import torch\n",
    "import numpy as np"
   ],
   "id": "7651bf4dc2dcc2ba",
   "outputs": [],
   "execution_count": 1
  },
  {
   "metadata": {},
   "cell_type": "markdown",
   "source": [
    "# Operaciones con tensores\n",
    "\n",
    "*Las operaciones más comunes son:*\n",
    "1. *Suma.*\n",
    "2. *Resta.*\n",
    "3. *Multiplicación.*\n",
    "4. *División.*\n",
    "5. *Producto de matrices.*"
   ],
   "id": "1305426e7e34558"
  },
  {
   "metadata": {
    "ExecuteTime": {
     "end_time": "2025-04-18T18:45:43.326923Z",
     "start_time": "2025-04-18T18:45:43.274563Z"
    }
   },
   "cell_type": "code",
   "source": [
    "X = torch.tensor([1, 2, 3], device='mps')\n",
    "X"
   ],
   "id": "a0dd823983899f5a",
   "outputs": [
    {
     "data": {
      "text/plain": [
       "tensor([1, 2, 3], device='mps:0')"
      ]
     },
     "execution_count": 2,
     "metadata": {},
     "output_type": "execute_result"
    }
   ],
   "execution_count": 2
  },
  {
   "metadata": {},
   "cell_type": "markdown",
   "source": "*Podemos ver que las primeras cuatro operaciones (i.e., suma, resta, multiplicación y división) se realizan elemento a elemento, al igual que en NumPy. Por ejemplo, si la operación es $X + 100$, al primer elemento del tensor $X$ le sumamos 100, al segundo elemento del tensor $X$ se le suma 100, y así para todos los elementos.*",
   "id": "e949cbff0a7e7591"
  },
  {
   "metadata": {
    "ExecuteTime": {
     "end_time": "2025-04-18T18:45:46.224043Z",
     "start_time": "2025-04-18T18:45:46.135484Z"
    }
   },
   "cell_type": "code",
   "source": [
    "# Suma\n",
    "print(f'X: {X}')\n",
    "y = X + 100\n",
    "print(f'y: {y}')"
   ],
   "id": "76291c8b20a23d74",
   "outputs": [
    {
     "name": "stdout",
     "output_type": "stream",
     "text": [
      "X: tensor([1, 2, 3], device='mps:0')\n",
      "y: tensor([101, 102, 103], device='mps:0')\n"
     ]
    }
   ],
   "execution_count": 3
  },
  {
   "metadata": {
    "ExecuteTime": {
     "end_time": "2025-04-18T18:51:51.329304Z",
     "start_time": "2025-04-18T18:51:51.195546Z"
    }
   },
   "cell_type": "code",
   "source": [
    "X = torch.ones(size=(3, 3), device='mps')\n",
    "print(f'X:\\n {X}')\n",
    "y = torch.randint_like(X, low=0, high=10)\n",
    "print(f'y:\\n {y}')\n",
    "\n",
    "z = X + y\n",
    "print(f'Suma:\\n {z}')"
   ],
   "id": "52ce5cf0ffb885a0",
   "outputs": [
    {
     "name": "stdout",
     "output_type": "stream",
     "text": [
      "X:\n",
      " tensor([[1., 1., 1.],\n",
      "        [1., 1., 1.],\n",
      "        [1., 1., 1.]], device='mps:0')\n",
      "y:\n",
      " tensor([[7., 2., 2.],\n",
      "        [7., 3., 3.],\n",
      "        [3., 7., 8.]], device='mps:0')\n",
      "Suma:\n",
      " tensor([[8., 3., 3.],\n",
      "        [8., 4., 4.],\n",
      "        [4., 8., 9.]], device='mps:0')\n"
     ]
    }
   ],
   "execution_count": 8
  },
  {
   "metadata": {
    "ExecuteTime": {
     "end_time": "2025-04-18T18:45:47.323526Z",
     "start_time": "2025-04-18T18:45:47.286731Z"
    }
   },
   "cell_type": "code",
   "source": [
    "# Resta\n",
    "print(f'X: {X}')\n",
    "y = X - 100\n",
    "print(f'y: {y}')"
   ],
   "id": "81c610938263b87f",
   "outputs": [
    {
     "name": "stdout",
     "output_type": "stream",
     "text": [
      "X: tensor([1, 2, 3], device='mps:0')\n",
      "y: tensor([-99, -98, -97], device='mps:0')\n"
     ]
    }
   ],
   "execution_count": 4
  },
  {
   "metadata": {
    "ExecuteTime": {
     "end_time": "2025-04-18T18:45:48.445560Z",
     "start_time": "2025-04-18T18:45:48.330764Z"
    }
   },
   "cell_type": "code",
   "source": [
    "# Multiplicación\n",
    "X = torch.ones(size=(3, 3), device='mps')\n",
    "print(f'X:\\n {X}')\n",
    "\n",
    "y = X * 25\n",
    "print(f'Multiply X by 25:\\n {y}')"
   ],
   "id": "c512eaa1dafe8fbb",
   "outputs": [
    {
     "name": "stdout",
     "output_type": "stream",
     "text": [
      "X:\n",
      " tensor([[1., 1., 1.],\n",
      "        [1., 1., 1.],\n",
      "        [1., 1., 1.]], device='mps:0')\n",
      "Multiply X by 25:\n",
      " tensor([[25., 25., 25.],\n",
      "        [25., 25., 25.],\n",
      "        [25., 25., 25.]], device='mps:0')\n"
     ]
    }
   ],
   "execution_count": 5
  },
  {
   "metadata": {
    "ExecuteTime": {
     "end_time": "2025-04-18T18:45:57.108653Z",
     "start_time": "2025-04-18T18:45:57.091822Z"
    }
   },
   "cell_type": "code",
   "source": [
    "# División\n",
    "X = torch.ones(size=(3, 3), device='mps')\n",
    "print(f'X:\\n {X}')\n",
    "\n",
    "y = X / 25\n",
    "print(f'Divide X by 25:\\n {y}')"
   ],
   "id": "8ea111b358a6e66a",
   "outputs": [
    {
     "name": "stdout",
     "output_type": "stream",
     "text": [
      "X:\n",
      " tensor([[1., 1., 1.],\n",
      "        [1., 1., 1.],\n",
      "        [1., 1., 1.]], device='mps:0')\n",
      "Divide X by 25:\n",
      " tensor([[0.0400, 0.0400, 0.0400],\n",
      "        [0.0400, 0.0400, 0.0400],\n",
      "        [0.0400, 0.0400, 0.0400]], device='mps:0')\n"
     ]
    }
   ],
   "execution_count": 7
  },
  {
   "metadata": {},
   "cell_type": "markdown",
   "source": [
    "## Multipliación de matrices\n",
    "\n",
    "*En PyTorch tenemos dos formas de multiplicar matrices:*\n",
    "1. ***Multiplicación elemento a elemento (element-wise product).** Matemáticamente, no es una operación valida entre matrices, pero PyTorch nos permite realizar esa multiplicación donde el elemento $a_{i,j}$ de la matriz $A$ se multiplica con el elemento $b_{i,j}$ de la matriz $B$.*\n",
    "    - *Para poder realizar la multiplicación elemento a elemento, las matrices deben tener las mismas dimensiones.*\n",
    "2. ***Producto de matrices (dot product).** Esta es la multiplicación matemáticamente correcta de matrices.*\n",
    "    - *Las dimensiones de las matrices deben ser compatibles. Es decir, la cantidad de columnas en la matriz $A$ tiene que ser equivalente a la cantidad de filas de en la matriz $B$, por eso decimos que la multiplicación de matrices no es conmutativa (i.e., $A\\cdot B$ no es lo mismo que $B\\cdot A$).*\n",
    "    - *Si $A$ es una matriz de tamaño $m \\times n$ y $B$ es una matriz de tamaño $n \\times p$, entonces el producto de matrices $A \\cdot B$ es una matriz de tamaño $m \\times p$.*"
   ],
   "id": "c7913b044b9e643a"
  },
  {
   "metadata": {},
   "cell_type": "markdown",
   "source": "### Multiplicación elemento a elemento",
   "id": "16308ca029002f01"
  },
  {
   "metadata": {
    "ExecuteTime": {
     "end_time": "2025-04-20T13:44:15.778016Z",
     "start_time": "2025-04-20T13:44:15.580838Z"
    }
   },
   "cell_type": "code",
   "source": [
    "A = torch.randint(low=0, high=10, size=(3, 3), device='mps')\n",
    "B = torch.randint(low=0, high=10, size=(3, 3), device='mps')\n",
    "print(f'A:\\n {A}')\n",
    "print(f'B:\\n {B}')"
   ],
   "id": "a4cb7e2f94abe91f",
   "outputs": [
    {
     "name": "stdout",
     "output_type": "stream",
     "text": [
      "A:\n",
      " tensor([[7, 9, 9],\n",
      "        [1, 3, 6],\n",
      "        [4, 7, 6]], device='mps:0')\n",
      "B:\n",
      " tensor([[2, 5, 4],\n",
      "        [8, 7, 4],\n",
      "        [5, 1, 6]], device='mps:0')\n"
     ]
    }
   ],
   "execution_count": 2
  },
  {
   "metadata": {
    "ExecuteTime": {
     "end_time": "2025-04-20T13:51:20.412992Z",
     "start_time": "2025-04-20T13:51:20.405193Z"
    }
   },
   "cell_type": "code",
   "source": [
    "C = A * B\n",
    "print(f'A * B =\\n {C}')"
   ],
   "id": "8bc92f754300b720",
   "outputs": [
    {
     "name": "stdout",
     "output_type": "stream",
     "text": [
      "A * B =\n",
      " tensor([[14, 45, 36],\n",
      "        [ 8, 21, 24],\n",
      "        [20,  7, 36]], device='mps:0')\n"
     ]
    }
   ],
   "execution_count": 4
  },
  {
   "metadata": {},
   "cell_type": "markdown",
   "source": [
    "### Producto de matrices\n",
    "\n",
    "*Para el producto de matrices podemos utilizar las funciones `torch.matmul` y `torch.mm`, o el operador `@`.*"
   ],
   "id": "ac67486b47c67add"
  },
  {
   "metadata": {
    "ExecuteTime": {
     "end_time": "2025-04-20T14:27:15.323745Z",
     "start_time": "2025-04-20T14:27:15.319017Z"
    }
   },
   "cell_type": "code",
   "source": [
    "# Change device type to CPU because MPS does not support matrix multiplication for integers\n",
    "A = torch.randint(low=0, high=10, size=(3, 2), device='cpu')\n",
    "B = torch.randint(low=0, high=10, size=(2, 3), device='cpu')\n",
    "\n",
    "# Matrix multiplication\n",
    "C = torch.mm(A, B)\n",
    "print(f'A @ B =\\n {C}')"
   ],
   "id": "eb5975310d70e1d0",
   "outputs": [
    {
     "name": "stdout",
     "output_type": "stream",
     "text": [
      "A @ B =\n",
      " tensor([[ 48,  25,  62],\n",
      "        [ 24,  15,  51],\n",
      "        [ 64,  40, 136]])\n"
     ]
    }
   ],
   "execution_count": 17
  },
  {
   "metadata": {
    "ExecuteTime": {
     "end_time": "2025-04-20T14:27:19.301566Z",
     "start_time": "2025-04-20T14:27:19.298393Z"
    }
   },
   "cell_type": "code",
   "source": [
    "# Matrix multiplication using the @ operator\n",
    "print(A @ B)"
   ],
   "id": "b236a2d70bd60df2",
   "outputs": [
    {
     "name": "stdout",
     "output_type": "stream",
     "text": [
      "tensor([[ 48,  25,  62],\n",
      "        [ 24,  15,  51],\n",
      "        [ 64,  40, 136]])\n"
     ]
    }
   ],
   "execution_count": 18
  },
  {
   "metadata": {},
   "cell_type": "markdown",
   "source": "*Podemos transponer fácilmente una matriz utilizando la función `torch.transpose` o el método `.T`. Esto suele ser muy útil al tener que multiplicar matrices.*",
   "id": "80c7ba2710c6fe3e"
  },
  {
   "metadata": {
    "ExecuteTime": {
     "end_time": "2025-04-20T14:33:35.801061Z",
     "start_time": "2025-04-20T14:33:35.795584Z"
    }
   },
   "cell_type": "code",
   "source": [
    "# Create two random tensors with the same shape\n",
    "tensor_A = torch.rand(size=(3, 2))\n",
    "tensor_B = torch.rand(size=(3, 2))\n",
    "\n",
    "print(f'Original shapes: tensor_A = {tensor_A.shape} and tensor_B = {tensor_B.shape}')\n",
    "\n",
    "# Transpose the tensors\n",
    "tensor_C = torch.mm(tensor_A, tensor_B.T)\n",
    "print(f'Shapes after transpose: tensor_A = {tensor_A.shape} and tensor_B = {tensor_B.T.shape}')\n",
    "\n",
    "# Output:\n",
    "print(f'Output:\\n {tensor_C}')"
   ],
   "id": "d621761f9d8327e1",
   "outputs": [
    {
     "name": "stdout",
     "output_type": "stream",
     "text": [
      "Original shapes: tensor_A = torch.Size([3, 2]) and tensor_B = torch.Size([3, 2])\n",
      "Shapes after transpose: tensor_A = torch.Size([3, 2]) and tensor_B = torch.Size([2, 3])\n",
      "Output:\n",
      " tensor([[0.5282, 0.5143, 0.8110],\n",
      "        [0.1269, 0.2870, 0.7025],\n",
      "        [0.2476, 0.3439, 0.6995]])\n"
     ]
    }
   ],
   "execution_count": 21
  },
  {
   "metadata": {},
   "cell_type": "markdown",
   "source": [
    "# Agregación de tensores\n",
    "\n",
    "*Estas operaciones nos permiten obtener un único valor a partir de un tensor. Por ejemplo, la suma de los elementos del tensor, el valor máximo, el valor mínimo, el valor promedio, entre otros.*"
   ],
   "id": "f1bcc5326e5c8b1f"
  },
  {
   "metadata": {
    "ExecuteTime": {
     "end_time": "2025-04-20T14:40:44.505505Z",
     "start_time": "2025-04-20T14:40:44.500737Z"
    }
   },
   "cell_type": "code",
   "source": [
    "X = torch.arange(start=0, end=100, step=10)\n",
    "X"
   ],
   "id": "7174ac2cb0696ac2",
   "outputs": [
    {
     "data": {
      "text/plain": [
       "tensor([ 0, 10, 20, 30, 40, 50, 60, 70, 80, 90])"
      ]
     },
     "execution_count": 24,
     "metadata": {},
     "output_type": "execute_result"
    }
   ],
   "execution_count": 24
  },
  {
   "metadata": {
    "ExecuteTime": {
     "end_time": "2025-04-20T14:41:08.530516Z",
     "start_time": "2025-04-20T14:41:08.525722Z"
    }
   },
   "cell_type": "code",
   "source": "torch.min(X), X.min()",
   "id": "2ec4e2babf5085ba",
   "outputs": [
    {
     "data": {
      "text/plain": [
       "(tensor(0), tensor(0))"
      ]
     },
     "execution_count": 26,
     "metadata": {},
     "output_type": "execute_result"
    }
   ],
   "execution_count": 26
  },
  {
   "metadata": {
    "ExecuteTime": {
     "end_time": "2025-04-20T14:41:16.809451Z",
     "start_time": "2025-04-20T14:41:16.806923Z"
    }
   },
   "cell_type": "code",
   "source": "torch.max(X), X.max()",
   "id": "88b0e313e7252879",
   "outputs": [
    {
     "data": {
      "text/plain": [
       "(tensor(90), tensor(90))"
      ]
     },
     "execution_count": 27,
     "metadata": {},
     "output_type": "execute_result"
    }
   ],
   "execution_count": 27
  },
  {
   "metadata": {
    "ExecuteTime": {
     "end_time": "2025-04-20T14:41:45.004345Z",
     "start_time": "2025-04-20T14:41:44.998897Z"
    }
   },
   "cell_type": "code",
   "source": [
    "# We must change the datatype to float32 because torch.mean() does not support int64\n",
    "torch.mean(X.type(torch.float32)), X.type(torch.float32).mean()"
   ],
   "id": "3ed1529c0c37ddef",
   "outputs": [
    {
     "data": {
      "text/plain": [
       "(tensor(45.), tensor(45.))"
      ]
     },
     "execution_count": 29,
     "metadata": {},
     "output_type": "execute_result"
    }
   ],
   "execution_count": 29
  },
  {
   "metadata": {
    "ExecuteTime": {
     "end_time": "2025-04-20T14:42:25.246595Z",
     "start_time": "2025-04-20T14:42:25.244151Z"
    }
   },
   "cell_type": "code",
   "source": "torch.sum(X), X.sum()",
   "id": "f79573ff6172bef1",
   "outputs": [
    {
     "data": {
      "text/plain": [
       "(tensor(450), tensor(450))"
      ]
     },
     "execution_count": 30,
     "metadata": {},
     "output_type": "execute_result"
    }
   ],
   "execution_count": 30
  },
  {
   "metadata": {},
   "cell_type": "markdown",
   "source": "*Podemos también obtener la posición (índice) del elemento con el valor máximo/mínimo del tensor usando los métodos `argmax()` o `argmin()` respectivamente.*",
   "id": "2c430e5e02f3a8d9"
  },
  {
   "metadata": {
    "ExecuteTime": {
     "end_time": "2025-04-20T14:46:22.643081Z",
     "start_time": "2025-04-20T14:46:22.640349Z"
    }
   },
   "cell_type": "code",
   "source": [
    "print(f'Posición del valor máximo: {X.argmax()}')\n",
    "print(f'Posición del valor mínimo: {X.argmin()}')"
   ],
   "id": "b7d3ad7373a12eee",
   "outputs": [
    {
     "name": "stdout",
     "output_type": "stream",
     "text": [
      "Posición del valor máximo: 9\n",
      "Posición del valor mínimo: 0\n"
     ]
    }
   ],
   "execution_count": 32
  }
 ],
 "metadata": {
  "kernelspec": {
   "name": "python3",
   "language": "python",
   "display_name": "Python 3 (ipykernel)"
  }
 },
 "nbformat": 5,
 "nbformat_minor": 9
}
