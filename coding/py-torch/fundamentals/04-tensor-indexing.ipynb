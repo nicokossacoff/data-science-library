{
 "cells": [
  {
   "cell_type": "code",
   "id": "initial_id",
   "metadata": {
    "collapsed": true,
    "ExecuteTime": {
     "end_time": "2025-04-27T21:50:21.477794Z",
     "start_time": "2025-04-27T21:50:21.472413Z"
    }
   },
   "source": "import torch",
   "outputs": [],
   "execution_count": 23
  },
  {
   "metadata": {},
   "cell_type": "markdown",
   "source": [
    "# Indexing\n",
    "\n",
    "*Creamos, a partir de las matrices `A` y `B`, un tensor de dimensión $2\\times 3\\times 3$.*"
   ],
   "id": "41bd029c20a3520b"
  },
  {
   "metadata": {
    "ExecuteTime": {
     "end_time": "2025-04-27T21:50:24.699370Z",
     "start_time": "2025-04-27T21:50:24.693037Z"
    }
   },
   "cell_type": "code",
   "source": [
    "A = torch.arange(1, 10).reshape((3, 3))\n",
    "print(f'Matriz A:\\n{A}')\n",
    "\n",
    "B = torch.arange(10, 19).reshape((3, 3))\n",
    "print(f'Matriz B:\\n{B}')"
   ],
   "id": "48f02a656537674c",
   "outputs": [
    {
     "name": "stdout",
     "output_type": "stream",
     "text": [
      "Matriz A:\n",
      "tensor([[1, 2, 3],\n",
      "        [4, 5, 6],\n",
      "        [7, 8, 9]])\n",
      "Matriz B:\n",
      "tensor([[10, 11, 12],\n",
      "        [13, 14, 15],\n",
      "        [16, 17, 18]])\n"
     ]
    }
   ],
   "execution_count": 24
  },
  {
   "metadata": {
    "ExecuteTime": {
     "end_time": "2025-04-27T21:50:25.700273Z",
     "start_time": "2025-04-27T21:50:25.696462Z"
    }
   },
   "cell_type": "code",
   "source": [
    "X = torch.stack((A, B))\n",
    "print(f'Tensor X:\\n{X}')\n",
    "print(f'Shape: X = {X.shape}')"
   ],
   "id": "b9d3f832026cdbff",
   "outputs": [
    {
     "name": "stdout",
     "output_type": "stream",
     "text": [
      "Tensor X:\n",
      "tensor([[[ 1,  2,  3],\n",
      "         [ 4,  5,  6],\n",
      "         [ 7,  8,  9]],\n",
      "\n",
      "        [[10, 11, 12],\n",
      "         [13, 14, 15],\n",
      "         [16, 17, 18]]])\n",
      "Shape: X = torch.Size([2, 3, 3])\n"
     ]
    }
   ],
   "execution_count": 25
  },
  {
   "metadata": {},
   "cell_type": "markdown",
   "source": [
    "*Podemos acceder a los elementos de cada dimensión utilizando `[]`. Por ejemplo, para acceder a los elementos de nuestro tensor `X` podemos utilizar:*\n",
    "- *`X[0]` nos devuelve el primer elemento de la primera dimensión. En nuestro ejemplo, nos devuelve la matriz `A`. Si quisiéramos acceder a la matriz `B`, deberíamos usar `X[1]`. Si tuviésemos más elementos en la primera dimensión, para acceder a ellos deberíamos incrementar gradualmente el índice.*\n",
    "- *`X[0, 0]` nos devuelve el primer elemento de la primera dimensión y el primer elemento de la segunda dimensión. En nuestro ejemplo, nos devuelve la primera fila de la matriz `A`.*\n",
    "- *`X[0, 0, 0]` nos devuelve el primer elemento de las tres dimensiones. Es decir, nos devuelve el primer elemento en la primera fila de la matriz `A`.*"
   ],
   "id": "3325f82a11ece76e"
  },
  {
   "metadata": {
    "ExecuteTime": {
     "end_time": "2025-04-27T21:50:51.307771Z",
     "start_time": "2025-04-27T21:50:51.302633Z"
    }
   },
   "cell_type": "code",
   "source": [
    "print(f'X = {X[0]}\\n')\n",
    "print(f'Shape: X = {X[0].shape}')"
   ],
   "id": "70128b49daf9c70a",
   "outputs": [
    {
     "name": "stdout",
     "output_type": "stream",
     "text": [
      "X = tensor([[1, 2, 3],\n",
      "        [4, 5, 6],\n",
      "        [7, 8, 9]])\n",
      "\n",
      "Shape: X = torch.Size([3, 3])\n"
     ]
    }
   ],
   "execution_count": 26
  },
  {
   "metadata": {
    "ExecuteTime": {
     "end_time": "2025-04-27T21:50:53.292508Z",
     "start_time": "2025-04-27T21:50:53.289302Z"
    }
   },
   "cell_type": "code",
   "source": [
    "print(f'Matrix: A = {X[0]}\\n')\n",
    "print(f'Shape: A = {X[0].shape}')"
   ],
   "id": "65e5299f987e5c73",
   "outputs": [
    {
     "name": "stdout",
     "output_type": "stream",
     "text": [
      "Matrix: A = tensor([[1, 2, 3],\n",
      "        [4, 5, 6],\n",
      "        [7, 8, 9]])\n",
      "\n",
      "Shape: A = torch.Size([3, 3])\n"
     ]
    }
   ],
   "execution_count": 27
  },
  {
   "metadata": {
    "ExecuteTime": {
     "end_time": "2025-04-27T21:50:54.951479Z",
     "start_time": "2025-04-27T21:50:54.947902Z"
    }
   },
   "cell_type": "code",
   "source": "print(f'First row in matrix A = {X[0, 0]}')",
   "id": "afb5f97b73eab514",
   "outputs": [
    {
     "name": "stdout",
     "output_type": "stream",
     "text": [
      "First row in matrix A = tensor([1, 2, 3])\n"
     ]
    }
   ],
   "execution_count": 28
  },
  {
   "metadata": {
    "ExecuteTime": {
     "end_time": "2025-04-27T21:50:57.057765Z",
     "start_time": "2025-04-27T21:50:57.054810Z"
    }
   },
   "cell_type": "code",
   "source": "print(f'First element of matrix A = {X[0, 0, 0]}')",
   "id": "3eb31b9959f1d8f6",
   "outputs": [
    {
     "name": "stdout",
     "output_type": "stream",
     "text": [
      "First element of matrix A = 1\n"
     ]
    }
   ],
   "execution_count": 29
  },
  {
   "metadata": {},
   "cell_type": "markdown",
   "source": "*Si quisiéramos acceder a un elemento no existente en el tensor, obtendríamos un error. Por ejemplo, si quisiéramos acceder a `X[2]`, obtendríamos un error porque no existe un tercer elemento en la primera dimensión.*",
   "id": "334b9eb099e81cd3"
  },
  {
   "metadata": {
    "ExecuteTime": {
     "end_time": "2025-04-27T21:51:08.650336Z",
     "start_time": "2025-04-27T21:51:08.646804Z"
    }
   },
   "cell_type": "code",
   "source": [
    "try:\n",
    "    print(f'X[2] = {X[2]}')\n",
    "except IndexError as e:\n",
    "    print(f'Error: {e}')"
   ],
   "id": "854165fdda03997d",
   "outputs": [
    {
     "name": "stdout",
     "output_type": "stream",
     "text": [
      "Error: index 2 is out of bounds for dimension 0 with size 2\n"
     ]
    }
   ],
   "execution_count": 30
  },
  {
   "metadata": {},
   "cell_type": "markdown",
   "source": "*También podemos utilizar **slicing** sobre las dimensiones de nuestro tensor para solo acceder a algunos de los elementos del tensor. Por ejemplo, usando `X[1, 1:, 1:]`, podemos acceder a las últimas dos filas y las últimas dos columnas de la matriz `B`.*",
   "id": "4983e1ff15fd36b"
  },
  {
   "metadata": {
    "ExecuteTime": {
     "end_time": "2025-04-27T21:53:27.509488Z",
     "start_time": "2025-04-27T21:53:27.504660Z"
    }
   },
   "cell_type": "code",
   "source": "X[1, 1:, 1:]",
   "id": "7982cfe97d17ab46",
   "outputs": [
    {
     "data": {
      "text/plain": [
       "tensor([[14, 15],\n",
       "        [17, 18]])"
      ]
     },
     "execution_count": 32,
     "metadata": {},
     "output_type": "execute_result"
    }
   ],
   "execution_count": 32
  }
 ],
 "metadata": {
  "kernelspec": {
   "display_name": "Python 3",
   "language": "python",
   "name": "python3"
  },
  "language_info": {
   "codemirror_mode": {
    "name": "ipython",
    "version": 2
   },
   "file_extension": ".py",
   "mimetype": "text/x-python",
   "name": "python",
   "nbconvert_exporter": "python",
   "pygments_lexer": "ipython2",
   "version": "2.7.6"
  }
 },
 "nbformat": 4,
 "nbformat_minor": 5
}
