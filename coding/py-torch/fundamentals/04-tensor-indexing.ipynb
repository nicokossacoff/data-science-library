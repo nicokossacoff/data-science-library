{
 "cells": [
  {
   "cell_type": "code",
   "id": "initial_id",
   "metadata": {
    "collapsed": true,
    "ExecuteTime": {
     "end_time": "2025-04-27T12:56:13.798402Z",
     "start_time": "2025-04-27T12:56:13.079861Z"
    }
   },
   "source": "import torch",
   "outputs": [],
   "execution_count": 1
  },
  {
   "metadata": {},
   "cell_type": "markdown",
   "source": [
    "# Indexing\n",
    "\n",
    "*Creamos, a partir de las matrices `A` y `B`, un tensor de dimensión $2\\times 3\\times 3$.*"
   ],
   "id": "41bd029c20a3520b"
  },
  {
   "metadata": {
    "ExecuteTime": {
     "end_time": "2025-04-27T13:17:30.010635Z",
     "start_time": "2025-04-27T13:17:30.005700Z"
    }
   },
   "cell_type": "code",
   "source": [
    "A = torch.arange(1, 10).reshape((3, 3))\n",
    "print(f'Matriz A:\\n{A}')\n",
    "\n",
    "B = torch.arange(10, 19).reshape((3, 3))\n",
    "print(f'Matriz B:\\n{B}')"
   ],
   "id": "48f02a656537674c",
   "outputs": [
    {
     "name": "stdout",
     "output_type": "stream",
     "text": [
      "Matriz A:\n",
      "tensor([[1, 2, 3],\n",
      "        [4, 5, 6],\n",
      "        [7, 8, 9]])\n",
      "Matriz B:\n",
      "tensor([[10, 11, 12],\n",
      "        [13, 14, 15],\n",
      "        [16, 17, 18]])\n"
     ]
    }
   ],
   "execution_count": 13
  },
  {
   "metadata": {
    "ExecuteTime": {
     "end_time": "2025-04-27T13:17:32.590360Z",
     "start_time": "2025-04-27T13:17:32.586738Z"
    }
   },
   "cell_type": "code",
   "source": [
    "X = torch.stack((A, B))\n",
    "print(f'Tensor X:\\n{X}')\n",
    "print(f'Shape: X = {X.shape}')"
   ],
   "id": "b9d3f832026cdbff",
   "outputs": [
    {
     "name": "stdout",
     "output_type": "stream",
     "text": [
      "Tensor X:\n",
      "tensor([[[ 1,  2,  3],\n",
      "         [ 4,  5,  6],\n",
      "         [ 7,  8,  9]],\n",
      "\n",
      "        [[10, 11, 12],\n",
      "         [13, 14, 15],\n",
      "         [16, 17, 18]]])\n",
      "Shape: X = torch.Size([2, 3, 3])\n"
     ]
    }
   ],
   "execution_count": 14
  },
  {
   "metadata": {},
   "cell_type": "markdown",
   "source": [
    "*Podemos acceder a los elementos de cada dimensión utilizando `[]`. Por ejemplo, para acceder a los elementos de nuestro tensor `X` podemos utilizar:*\n",
    "- *`X[0]` nos devuelve el primer elemento de la primera dimensión. En nuestro ejemplo, nos devuelve la matriz `A`. Si quisiéramos acceder a la matriz `B`, deberíamos usar `X[1]`. Si tuviésemos más elementos en la primera dimensión, para acceder a ellos deberíamos incrementar gradualmente el índice.*\n",
    "- *`X[0, 0]` nos devuelve el primer elemento de la primera dimensión y el primer elemento de la segunda dimensión. En nuestro ejemplo, nos devuelve la primera fila de la matriz `A`.*\n",
    "- *`X[0, 0, 0]` nos devuelve el primer elemento de las tres dimensiones. Es decir, nos devuelve el primer elemento en la primera fila de la matriz `A`.*"
   ],
   "id": "3325f82a11ece76e"
  },
  {
   "metadata": {
    "ExecuteTime": {
     "end_time": "2025-04-27T13:22:08.959927Z",
     "start_time": "2025-04-27T13:22:08.956102Z"
    }
   },
   "cell_type": "code",
   "source": [
    "print(f'X = {X[0]}\\n')\n",
    "print(f'Shape: X = {X[0].shape}')"
   ],
   "id": "70128b49daf9c70a",
   "outputs": [
    {
     "name": "stdout",
     "output_type": "stream",
     "text": [
      "Tensor: X = tensor([[1, 2, 3],\n",
      "        [4, 5, 6],\n",
      "        [7, 8, 9]])\n",
      "\n",
      "Shape: X = torch.Size([3, 3])\n"
     ]
    }
   ],
   "execution_count": 15
  },
  {
   "metadata": {
    "ExecuteTime": {
     "end_time": "2025-04-27T13:22:49.865791Z",
     "start_time": "2025-04-27T13:22:49.861994Z"
    }
   },
   "cell_type": "code",
   "source": [
    "print(f'Matrix: A = {X[0]}\\n')\n",
    "print(f'Shape: A = {X[0].shape}')"
   ],
   "id": "65e5299f987e5c73",
   "outputs": [
    {
     "name": "stdout",
     "output_type": "stream",
     "text": [
      "Matrix: A = tensor([[1, 2, 3],\n",
      "        [4, 5, 6],\n",
      "        [7, 8, 9]])\n",
      "\n",
      "Shape: A = torch.Size([3, 3])\n"
     ]
    }
   ],
   "execution_count": 16
  },
  {
   "metadata": {
    "ExecuteTime": {
     "end_time": "2025-04-27T13:23:28.498481Z",
     "start_time": "2025-04-27T13:23:28.495547Z"
    }
   },
   "cell_type": "code",
   "source": "print(f'First row in matrix A = {X[0, 0]}')",
   "id": "afb5f97b73eab514",
   "outputs": [
    {
     "name": "stdout",
     "output_type": "stream",
     "text": [
      "First row in matrix A = tensor([1, 2, 3])\n"
     ]
    }
   ],
   "execution_count": 18
  },
  {
   "metadata": {
    "ExecuteTime": {
     "end_time": "2025-04-27T13:23:54.699026Z",
     "start_time": "2025-04-27T13:23:54.695731Z"
    }
   },
   "cell_type": "code",
   "source": "print(f'First element of matrix A = {X[0, 0, 0]}')",
   "id": "3eb31b9959f1d8f6",
   "outputs": [
    {
     "name": "stdout",
     "output_type": "stream",
     "text": [
      "First element of matrix A = 1\n"
     ]
    }
   ],
   "execution_count": 19
  },
  {
   "metadata": {},
   "cell_type": "markdown",
   "source": "*Si quisiéramos acceder a un elemento no existente en el tensor, obtendríamos un error. Por ejemplo, si quisiéramos acceder a `X[2]`, obtendríamos un error porque no existe un tercer elemento en la primera dimensión.*",
   "id": "334b9eb099e81cd3"
  },
  {
   "metadata": {
    "ExecuteTime": {
     "end_time": "2025-04-27T13:25:34.310231Z",
     "start_time": "2025-04-27T13:25:34.306550Z"
    }
   },
   "cell_type": "code",
   "source": [
    "try:\n",
    "    print(f'X[2] = {X[2]}')\n",
    "except IndexError as e:\n",
    "    print(f'Error: {e}')"
   ],
   "id": "854165fdda03997d",
   "outputs": [
    {
     "name": "stdout",
     "output_type": "stream",
     "text": [
      "Error: index 2 is out of bounds for dimension 0 with size 2\n"
     ]
    }
   ],
   "execution_count": 21
  }
 ],
 "metadata": {
  "kernelspec": {
   "display_name": "Python 3",
   "language": "python",
   "name": "python3"
  },
  "language_info": {
   "codemirror_mode": {
    "name": "ipython",
    "version": 2
   },
   "file_extension": ".py",
   "mimetype": "text/x-python",
   "name": "python",
   "nbconvert_exporter": "python",
   "pygments_lexer": "ipython2",
   "version": "2.7.6"
  }
 },
 "nbformat": 4,
 "nbformat_minor": 5
}
